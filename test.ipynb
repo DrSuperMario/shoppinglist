{
 "cells": [
  {
   "cell_type": "code",
   "execution_count": 1,
   "metadata": {},
   "outputs": [],
   "source": [
    "from pprint import pprint\n",
    "import jmespath\n",
    "import requests\n",
    "from bs4 import BeautifulSoup as BS4\n",
    "from textwrap import dedent\n",
    "import re"
   ]
  },
  {
   "cell_type": "code",
   "execution_count": 2,
   "metadata": {},
   "outputs": [],
   "source": [
    "req = requests.get('https://www.selver.ee/')"
   ]
  },
  {
   "cell_type": "code",
   "execution_count": 3,
   "metadata": {},
   "outputs": [],
   "source": [
    "soup = BS4(req.content, features='html.parser')"
   ]
  },
  {
   "cell_type": "code",
   "execution_count": 4,
   "metadata": {},
   "outputs": [],
   "source": [
    "#esilehelt URL otsingu regex\n",
    "url_class = re.compile(r'(item level0 nav.\\w+.+\\d)')\n",
    "#Hinna ja toote otsingu regex\n",
    "product_class = re.compile(r'(col-lg-3 \\w+).+') \n",
    "product_price = re.compile(r'(\"price\")')"
   ]
  },
  {
   "cell_type": "code",
   "execution_count": 5,
   "metadata": {},
   "outputs": [],
   "source": [
    "#Leia kõik HTML Li tagilt mis hoiab URLi\n",
    "find_tag = soup.find_all('li',{'class':url_class})"
   ]
  },
  {
   "cell_type": "code",
   "execution_count": 6,
   "metadata": {},
   "outputs": [],
   "source": [
    "#leia URL'id ja lista toote nimekirja pikkus\n",
    "get_urls = [i.find_next('a').get('href')+\"/?limit=96&p=\" for i in find_tag]"
   ]
  },
  {
   "cell_type": "code",
   "execution_count": 7,
   "metadata": {
    "collapsed": true
   },
   "outputs": [
    {
     "data": {
      "text/plain": [
       "['https://www.selver.ee/minu-tooted/?limit=96&p=',\n",
       " 'https://www.selver.ee/uudistooted/?limit=96&p=',\n",
       " 'https://www.selver.ee/soodushinnaga-tooted/?limit=96&p=',\n",
       " 'https://www.selver.ee/eritooted/?limit=96&p=',\n",
       " 'https://www.selver.ee/hulgipakkumised/?limit=96&p=',\n",
       " 'https://www.selver.ee/puu-ja-koogiviljad/?limit=96&p=',\n",
       " 'https://www.selver.ee/liha-ja-kalatooted/?limit=96&p=',\n",
       " 'https://www.selver.ee/piimatooted-munad-void/?limit=96&p=',\n",
       " 'https://www.selver.ee/juustud/?limit=96&p=',\n",
       " 'https://www.selver.ee/leivad-saiad-kondiitritooted/?limit=96&p=',\n",
       " 'https://www.selver.ee/valmistoidud/?limit=96&p=',\n",
       " 'https://www.selver.ee/kuivained-hoidised/?limit=96&p=',\n",
       " 'https://www.selver.ee/maitseained-ja-puljongid/?limit=96&p=',\n",
       " 'https://www.selver.ee/kastmed-olid/?limit=96&p=',\n",
       " 'https://www.selver.ee/maiustused-kupsised-naksid/?limit=96&p=',\n",
       " 'https://www.selver.ee/kulmutatud-toidukaubad/?limit=96&p=',\n",
       " 'https://www.selver.ee/joogid/?limit=96&p=',\n",
       " 'https://www.selver.ee/lastekaubad/?limit=96&p=',\n",
       " 'https://www.selver.ee/lemmiklooma-kaubad/?limit=96&p=',\n",
       " 'https://www.selver.ee/enesehooldustarbed/?limit=96&p=',\n",
       " 'https://www.selver.ee/majapidamis-ja-kodukaubad/?limit=96&p=',\n",
       " 'https://www.selver.ee/vabaajakaubad/?limit=96&p=',\n",
       " 'https://www.selver.ee/hooaja-ja-puhadekaubad/?limit=96&p=']"
      ]
     },
     "execution_count": 7,
     "metadata": {},
     "output_type": "execute_result"
    }
   ],
   "source": [
    "get_urls"
   ]
  },
  {
   "cell_type": "code",
   "execution_count": 11,
   "metadata": {},
   "outputs": [],
   "source": [
    "#Kogu html linkide kogust\n",
    "product_html = requests.get(get_urls[5])\n",
    "#puhasta ilusa seebiga\n",
    "soup = BS4(product_html.content, features='html.parser')\n",
    "#leia toote ja hinna kategoorijad li tagist\n",
    "find_product_group = soup.find_all('li',{'class':product_class})\n",
    "#leia hinnad\n",
    "find_product_group_prices = soup.find_all('span',{'class':'price'})\n",
    "#võta linki pealkirjad ehk toote nimed\n",
    "find_product_group_titles = [i.find_next('a').get('title') for i in find_product_group]\n",
    "#leia kõik hinnad\n",
    "prices = [dedent(i.text.replace(u'\\xa0',' ')) for i in find_product_group_prices if len(i) > 1]"
   ]
  },
  {
   "cell_type": "code",
   "execution_count": 8,
   "metadata": {},
   "outputs": [],
   "source": [
    "html_list = list()\n",
    "dict_of_products = dict()"
   ]
  },
  {
   "cell_type": "code",
   "execution_count": 339,
   "metadata": {},
   "outputs": [
    {
     "name": "stdout",
     "output_type": "stream",
     "text": [
      "Page URL: https://www.selver.ee/puu-ja-koogiviljad/?limit=96&p=1 Last page is: 4\n",
      "Page URL: https://www.selver.ee/puu-ja-koogiviljad/?limit=96&p=2 Last page is: 4\n",
      "Page URL: https://www.selver.ee/puu-ja-koogiviljad/?limit=96&p=3 Last page is: 4\n",
      "Page URL: https://www.selver.ee/puu-ja-koogiviljad/?limit=96&p=4 Last page is: 4\n",
      "Page URL: https://www.selver.ee/liha-ja-kalatooted/?limit=96&p=1 Last page is: 9\n",
      "Page URL: https://www.selver.ee/liha-ja-kalatooted/?limit=96&p=2 Last page is: 9\n",
      "Page URL: https://www.selver.ee/liha-ja-kalatooted/?limit=96&p=3 Last page is: 9\n",
      "Page URL: https://www.selver.ee/liha-ja-kalatooted/?limit=96&p=4 Last page is: 9\n",
      "Page URL: https://www.selver.ee/liha-ja-kalatooted/?limit=96&p=5 Last page is: 9\n",
      "Page URL: https://www.selver.ee/liha-ja-kalatooted/?limit=96&p=6 Last page is: 9\n",
      "Page URL: https://www.selver.ee/liha-ja-kalatooted/?limit=96&p=7 Last page is: 9\n",
      "Page URL: https://www.selver.ee/liha-ja-kalatooted/?limit=96&p=8 Last page is: 9\n",
      "Page URL: https://www.selver.ee/liha-ja-kalatooted/?limit=96&p=9 Last page is: 9\n",
      "Page URL: https://www.selver.ee/piimatooted-munad-void/?limit=96&p=1 Last page is: 6\n",
      "Page URL: https://www.selver.ee/piimatooted-munad-void/?limit=96&p=2 Last page is: 6\n",
      "Page URL: https://www.selver.ee/piimatooted-munad-void/?limit=96&p=3 Last page is: 6\n",
      "Page URL: https://www.selver.ee/piimatooted-munad-void/?limit=96&p=4 Last page is: 6\n",
      "Page URL: https://www.selver.ee/piimatooted-munad-void/?limit=96&p=5 Last page is: 6\n",
      "Page URL: https://www.selver.ee/piimatooted-munad-void/?limit=96&p=6 Last page is: 6\n",
      "Page URL: https://www.selver.ee/juustud/?limit=96&p=1 Last page is: 4\n",
      "Page URL: https://www.selver.ee/juustud/?limit=96&p=2 Last page is: 4\n",
      "Page URL: https://www.selver.ee/juustud/?limit=96&p=3 Last page is: 4\n",
      "Page URL: https://www.selver.ee/juustud/?limit=96&p=4 Last page is: 4\n",
      "Page URL: https://www.selver.ee/leivad-saiad-kondiitritooted/?limit=96&p=1 Last page is: 4\n",
      "Page URL: https://www.selver.ee/leivad-saiad-kondiitritooted/?limit=96&p=2 Last page is: 4\n",
      "Page URL: https://www.selver.ee/leivad-saiad-kondiitritooted/?limit=96&p=3 Last page is: 4\n",
      "Page URL: https://www.selver.ee/leivad-saiad-kondiitritooted/?limit=96&p=4 Last page is: 4\n",
      "Page URL: https://www.selver.ee/valmistoidud/?limit=96&p=1 Last page is: 3\n",
      "Page URL: https://www.selver.ee/valmistoidud/?limit=96&p=2 Last page is: 3\n",
      "Page URL: https://www.selver.ee/valmistoidud/?limit=96&p=3 Last page is: 3\n",
      "Page URL: https://www.selver.ee/kuivained-hoidised/?limit=96&p=1 Last page is: 11\n",
      "Page URL: https://www.selver.ee/kuivained-hoidised/?limit=96&p=2 Last page is: 11\n",
      "Page URL: https://www.selver.ee/kuivained-hoidised/?limit=96&p=3 Last page is: 11\n",
      "Page URL: https://www.selver.ee/kuivained-hoidised/?limit=96&p=4 Last page is: 11\n",
      "Page URL: https://www.selver.ee/kuivained-hoidised/?limit=96&p=5 Last page is: 11\n",
      "Page URL: https://www.selver.ee/kuivained-hoidised/?limit=96&p=6 Last page is: 11\n",
      "Page URL: https://www.selver.ee/kuivained-hoidised/?limit=96&p=7 Last page is: 11\n",
      "Page URL: https://www.selver.ee/kuivained-hoidised/?limit=96&p=8 Last page is: 11\n",
      "Page URL: https://www.selver.ee/kuivained-hoidised/?limit=96&p=9 Last page is: 11\n",
      "Page URL: https://www.selver.ee/kuivained-hoidised/?limit=96&p=10 Last page is: 11\n",
      "Page URL: https://www.selver.ee/kuivained-hoidised/?limit=96&p=11 Last page is: 11\n",
      "Page URL: https://www.selver.ee/maitseained-ja-puljongid/?limit=96&p=1 Last page is: 6\n",
      "Page URL: https://www.selver.ee/maitseained-ja-puljongid/?limit=96&p=2 Last page is: 6\n",
      "Page URL: https://www.selver.ee/maitseained-ja-puljongid/?limit=96&p=3 Last page is: 6\n",
      "Page URL: https://www.selver.ee/maitseained-ja-puljongid/?limit=96&p=4 Last page is: 6\n",
      "Page URL: https://www.selver.ee/maitseained-ja-puljongid/?limit=96&p=5 Last page is: 6\n",
      "Page URL: https://www.selver.ee/maitseained-ja-puljongid/?limit=96&p=6 Last page is: 6\n",
      "Page URL: https://www.selver.ee/kastmed-olid/?limit=96&p=1 Last page is: 3\n",
      "Page URL: https://www.selver.ee/kastmed-olid/?limit=96&p=2 Last page is: 3\n",
      "Page URL: https://www.selver.ee/kastmed-olid/?limit=96&p=3 Last page is: 3\n",
      "Page URL: https://www.selver.ee/maiustused-kupsised-naksid/?limit=96&p=1 Last page is: 9\n",
      "Page URL: https://www.selver.ee/maiustused-kupsised-naksid/?limit=96&p=2 Last page is: 9\n",
      "Page URL: https://www.selver.ee/maiustused-kupsised-naksid/?limit=96&p=3 Last page is: 9\n",
      "Page URL: https://www.selver.ee/maiustused-kupsised-naksid/?limit=96&p=4 Last page is: 9\n",
      "Page URL: https://www.selver.ee/maiustused-kupsised-naksid/?limit=96&p=5 Last page is: 9\n",
      "Page URL: https://www.selver.ee/maiustused-kupsised-naksid/?limit=96&p=6 Last page is: 9\n",
      "Page URL: https://www.selver.ee/maiustused-kupsised-naksid/?limit=96&p=7 Last page is: 9\n",
      "Page URL: https://www.selver.ee/maiustused-kupsised-naksid/?limit=96&p=8 Last page is: 9\n",
      "Page URL: https://www.selver.ee/maiustused-kupsised-naksid/?limit=96&p=9 Last page is: 9\n",
      "Page URL: https://www.selver.ee/kulmutatud-toidukaubad/?limit=96&p=1 Last page is: 5\n",
      "Page URL: https://www.selver.ee/kulmutatud-toidukaubad/?limit=96&p=2 Last page is: 5\n",
      "Page URL: https://www.selver.ee/kulmutatud-toidukaubad/?limit=96&p=3 Last page is: 5\n",
      "Page URL: https://www.selver.ee/kulmutatud-toidukaubad/?limit=96&p=4 Last page is: 5\n",
      "Page URL: https://www.selver.ee/kulmutatud-toidukaubad/?limit=96&p=5 Last page is: 5\n",
      "Page URL: https://www.selver.ee/joogid/?limit=96&p=1 Last page is: 23\n",
      "Page URL: https://www.selver.ee/joogid/?limit=96&p=2 Last page is: 23\n",
      "Page URL: https://www.selver.ee/joogid/?limit=96&p=3 Last page is: 23\n",
      "Page URL: https://www.selver.ee/joogid/?limit=96&p=4 Last page is: 23\n",
      "Page URL: https://www.selver.ee/joogid/?limit=96&p=5 Last page is: 23\n",
      "Page URL: https://www.selver.ee/joogid/?limit=96&p=6 Last page is: 23\n",
      "Page URL: https://www.selver.ee/joogid/?limit=96&p=7 Last page is: 23\n",
      "Page URL: https://www.selver.ee/joogid/?limit=96&p=8 Last page is: 23\n",
      "Page URL: https://www.selver.ee/joogid/?limit=96&p=9 Last page is: 23\n",
      "Page URL: https://www.selver.ee/joogid/?limit=96&p=10 Last page is: 23\n",
      "Page URL: https://www.selver.ee/joogid/?limit=96&p=11 Last page is: 23\n",
      "Page URL: https://www.selver.ee/joogid/?limit=96&p=12 Last page is: 23\n",
      "Page URL: https://www.selver.ee/joogid/?limit=96&p=13 Last page is: 23\n",
      "Page URL: https://www.selver.ee/joogid/?limit=96&p=14 Last page is: 23\n",
      "Page URL: https://www.selver.ee/joogid/?limit=96&p=15 Last page is: 23\n",
      "Page URL: https://www.selver.ee/joogid/?limit=96&p=16 Last page is: 23\n",
      "Page URL: https://www.selver.ee/joogid/?limit=96&p=17 Last page is: 23\n",
      "Page URL: https://www.selver.ee/joogid/?limit=96&p=18 Last page is: 23\n",
      "Page URL: https://www.selver.ee/joogid/?limit=96&p=19 Last page is: 23\n",
      "Page URL: https://www.selver.ee/joogid/?limit=96&p=20 Last page is: 23\n",
      "Page URL: https://www.selver.ee/joogid/?limit=96&p=21 Last page is: 23\n",
      "Page URL: https://www.selver.ee/joogid/?limit=96&p=22 Last page is: 23\n",
      "Page URL: https://www.selver.ee/joogid/?limit=96&p=23 Last page is: 23\n",
      "Page URL: https://www.selver.ee/lastekaubad/?limit=96&p=1 Last page is: 4\n",
      "Page URL: https://www.selver.ee/lastekaubad/?limit=96&p=2 Last page is: 4\n",
      "Page URL: https://www.selver.ee/lastekaubad/?limit=96&p=3 Last page is: 4\n",
      "Page URL: https://www.selver.ee/lastekaubad/?limit=96&p=4 Last page is: 4\n",
      "Page URL: https://www.selver.ee/lemmiklooma-kaubad/?limit=96&p=1 Last page is: 3\n",
      "Page URL: https://www.selver.ee/lemmiklooma-kaubad/?limit=96&p=2 Last page is: 3\n",
      "Page URL: https://www.selver.ee/lemmiklooma-kaubad/?limit=96&p=3 Last page is: 3\n",
      "Page URL: https://www.selver.ee/enesehooldustarbed/?limit=96&p=1 Last page is: 12\n",
      "Page URL: https://www.selver.ee/enesehooldustarbed/?limit=96&p=2 Last page is: 12\n",
      "Page URL: https://www.selver.ee/enesehooldustarbed/?limit=96&p=3 Last page is: 12\n",
      "Page URL: https://www.selver.ee/enesehooldustarbed/?limit=96&p=4 Last page is: 12\n",
      "Page URL: https://www.selver.ee/enesehooldustarbed/?limit=96&p=5 Last page is: 12\n",
      "Page URL: https://www.selver.ee/enesehooldustarbed/?limit=96&p=6 Last page is: 12\n",
      "Page URL: https://www.selver.ee/enesehooldustarbed/?limit=96&p=7 Last page is: 12\n",
      "Page URL: https://www.selver.ee/enesehooldustarbed/?limit=96&p=8 Last page is: 12\n",
      "Page URL: https://www.selver.ee/enesehooldustarbed/?limit=96&p=9 Last page is: 12\n"
     ]
    },
    {
     "name": "stdout",
     "output_type": "stream",
     "text": [
      "Page URL: https://www.selver.ee/enesehooldustarbed/?limit=96&p=10 Last page is: 12\n",
      "Page URL: https://www.selver.ee/enesehooldustarbed/?limit=96&p=11 Last page is: 12\n",
      "Page URL: https://www.selver.ee/enesehooldustarbed/?limit=96&p=12 Last page is: 12\n",
      "Page URL: https://www.selver.ee/majapidamis-ja-kodukaubad/?limit=96&p=1 Last page is: 12\n",
      "Page URL: https://www.selver.ee/majapidamis-ja-kodukaubad/?limit=96&p=2 Last page is: 12\n",
      "Page URL: https://www.selver.ee/majapidamis-ja-kodukaubad/?limit=96&p=3 Last page is: 12\n",
      "Page URL: https://www.selver.ee/majapidamis-ja-kodukaubad/?limit=96&p=4 Last page is: 12\n",
      "Page URL: https://www.selver.ee/majapidamis-ja-kodukaubad/?limit=96&p=5 Last page is: 12\n",
      "Page URL: https://www.selver.ee/majapidamis-ja-kodukaubad/?limit=96&p=6 Last page is: 12\n",
      "Page URL: https://www.selver.ee/majapidamis-ja-kodukaubad/?limit=96&p=7 Last page is: 12\n",
      "Page URL: https://www.selver.ee/majapidamis-ja-kodukaubad/?limit=96&p=8 Last page is: 12\n",
      "Page URL: https://www.selver.ee/majapidamis-ja-kodukaubad/?limit=96&p=9 Last page is: 12\n",
      "Page URL: https://www.selver.ee/majapidamis-ja-kodukaubad/?limit=96&p=10 Last page is: 12\n",
      "Page URL: https://www.selver.ee/majapidamis-ja-kodukaubad/?limit=96&p=11 Last page is: 12\n",
      "Page URL: https://www.selver.ee/majapidamis-ja-kodukaubad/?limit=96&p=12 Last page is: 12\n",
      "Page URL: https://www.selver.ee/vabaajakaubad/?limit=96&p=1 Last page is: 5\n",
      "Page URL: https://www.selver.ee/vabaajakaubad/?limit=96&p=2 Last page is: 5\n",
      "Page URL: https://www.selver.ee/vabaajakaubad/?limit=96&p=3 Last page is: 5\n",
      "Page URL: https://www.selver.ee/vabaajakaubad/?limit=96&p=4 Last page is: 5\n",
      "Page URL: https://www.selver.ee/vabaajakaubad/?limit=96&p=5 Last page is: 5\n",
      "Page URL: https://www.selver.ee/hooaja-ja-puhadekaubad/?limit=96&p=1 Last page is: 3\n",
      "Page URL: https://www.selver.ee/hooaja-ja-puhadekaubad/?limit=96&p=2 Last page is: 3\n",
      "Page URL: https://www.selver.ee/hooaja-ja-puhadekaubad/?limit=96&p=3 Last page is: 3\n"
     ]
    }
   ],
   "source": [
    "#start of the urls and end of the URLS\n",
    "for z in range(5,23):\n",
    "    #Find product last page\n",
    "    product_html = requests.get(get_urls[z])\n",
    "    #puhasta ilusa seebiga\n",
    "    soup = BS4(product_html.content, features='html.parser')\n",
    "    try:\n",
    "        find_product_last_page = soup.find('a',{'class':'last'}).text\n",
    "    except AttributeError:\n",
    "        find_product_last_page = 3\n",
    "    \n",
    "    for i in range(1,int(find_product_last_page)+1):\n",
    "        product_html = requests.get(get_urls[z]+str(i))\n",
    "        soup = BS4(product_html.content, features='html.parser')\n",
    "        html_list.append(soup)  \n",
    "        print(f\"Page URL: {get_urls[z]+str(i)} Last page is: {find_product_last_page}\")\n",
    "\n",
    "    for y in range(len(html_list)):  \n",
    "        find_product_group = html_list[y].find_all('li',{'class':product_class})\n",
    "        find_product_group_prices = html_list[y].find_all('span',{'class':'price'})\n",
    "        find_product_group_titles = [i.find_next('a').get('title') for i in find_product_group]\n",
    "        prices = [dedent(i.text.replace(u'\\xa0',' ')) for i in find_product_group_prices if len(i) > 1]\n",
    "        for t,f in zip(find_product_group_titles,prices):\n",
    "            dict_of_products.update({t:re.split(r'\\s+([0-9]+.[0-9]+\\s+./[A-z]+)',f)[:2]})"
   ]
  },
  {
   "cell_type": "code",
   "execution_count": 36,
   "metadata": {},
   "outputs": [],
   "source": [
    "import pandas as pd"
   ]
  },
  {
   "cell_type": "code",
   "execution_count": 395,
   "metadata": {},
   "outputs": [],
   "source": [
    "df = pd.DataFrame(index=dict_of_products.keys(),data=[y for x,y in dict_of_products.items()], columns=['Hind','Hind/Kogus)'])"
   ]
  },
  {
   "cell_type": "code",
   "execution_count": 356,
   "metadata": {},
   "outputs": [],
   "source": [
    "from sqlalchemy import create_engine"
   ]
  },
  {
   "cell_type": "code",
   "execution_count": 357,
   "metadata": {},
   "outputs": [
    {
     "name": "stdout",
     "output_type": "stream",
     "text": [
      "2021-03-02 21:06:56,552 INFO sqlalchemy.engine.base.Engine SELECT CAST('test plain returns' AS VARCHAR(60)) AS anon_1\n",
      "2021-03-02 21:06:56,556 INFO sqlalchemy.engine.base.Engine ()\n",
      "2021-03-02 21:06:56,564 INFO sqlalchemy.engine.base.Engine SELECT CAST('test unicode returns' AS VARCHAR(60)) AS anon_1\n",
      "2021-03-02 21:06:56,566 INFO sqlalchemy.engine.base.Engine ()\n"
     ]
    }
   ],
   "source": [
    "table = create_engine('sqlite:///selver_data.db', echo=True)\n",
    "table_c = table.connect()"
   ]
  },
  {
   "cell_type": "code",
   "execution_count": 358,
   "metadata": {},
   "outputs": [
    {
     "name": "stdout",
     "output_type": "stream",
     "text": [
      "2021-03-02 21:07:56,583 INFO sqlalchemy.engine.base.Engine PRAGMA main.table_info(\"Selver Items and Prices\")\n",
      "2021-03-02 21:07:56,585 INFO sqlalchemy.engine.base.Engine ()\n",
      "2021-03-02 21:07:56,589 INFO sqlalchemy.engine.base.Engine PRAGMA temp.table_info(\"Selver Items and Prices\")\n",
      "2021-03-02 21:07:56,593 INFO sqlalchemy.engine.base.Engine ()\n",
      "2021-03-02 21:07:56,603 INFO sqlalchemy.engine.base.Engine \n",
      "CREATE TABLE \"Selver Items and Prices\" (\n",
      "\t\"index\" TEXT, \n",
      "\t\"Hind\" TEXT, \n",
      "\t\"Hind/Kogus)\" TEXT\n",
      ")\n",
      "\n",
      "\n",
      "2021-03-02 21:07:56,605 INFO sqlalchemy.engine.base.Engine ()\n",
      "2021-03-02 21:07:56,616 INFO sqlalchemy.engine.base.Engine COMMIT\n",
      "2021-03-02 21:07:56,618 INFO sqlalchemy.engine.base.Engine CREATE INDEX \"ix_Selver Items and Prices_index\" ON \"Selver Items and Prices\" (\"index\")\n",
      "2021-03-02 21:07:56,620 INFO sqlalchemy.engine.base.Engine ()\n",
      "2021-03-02 21:07:56,634 INFO sqlalchemy.engine.base.Engine COMMIT\n",
      "2021-03-02 21:07:56,669 INFO sqlalchemy.engine.base.Engine BEGIN (implicit)\n",
      "2021-03-02 21:07:56,737 INFO sqlalchemy.engine.base.Engine INSERT INTO \"Selver Items and Prices\" (\"index\", \"Hind\", \"Hind/Kogus)\") VALUES (?, ?, ?)\n",
      "2021-03-02 21:07:56,741 INFO sqlalchemy.engine.base.Engine (('Banaan Chiquita, kg', '1,39 €', '1,39 €/kg'), ('Kurk Luunja, kg', '5,99 €', '5,99 €/kg'), ('Kirssploomtomat, 250 g', '1,29 €', '5,16 €/kg'), ('Kirsskobartomat, 500 g', '2,99 €', '5,98 €/kg'), ('Apelsin Navel, kg', '1,59 €', '1,59 €/kg'), ('Frillis lõigatud, tk', '1,99 €', '1,99 €/kg'), ('Porgand, LAHEOTSA, 500 g', '1,29 €', '1,29 €/tk'), ('Õun Golden pakitud, 1 kg', '0,59 €', '1,18 €/kg')  ... displaying 10 of 10355 total bound parameter sets ...  ('Jahvatatud kohv Dansk Guld purgis, MERRILD, 250g', '4,99 €', '19,96 €/kg'), ('Valgustatud põdra pea pruun, FINNLUMOR, 1tk', '24,90 €', '24,90 €/tk'))\n",
      "2021-03-02 21:07:56,837 INFO sqlalchemy.engine.base.Engine COMMIT\n",
      "2021-03-02 21:07:56,855 INFO sqlalchemy.engine.base.Engine SELECT name FROM sqlite_master WHERE type='table' ORDER BY name\n",
      "2021-03-02 21:07:56,857 INFO sqlalchemy.engine.base.Engine ()\n"
     ]
    }
   ],
   "source": [
    "df.to_sql('Selver Items and Prices', table_c, if_exists='append')"
   ]
  },
  {
   "cell_type": "code",
   "execution_count": 399,
   "metadata": {},
   "outputs": [],
   "source": [
    "df.reset_index(inplace=True)"
   ]
  },
  {
   "cell_type": "code",
   "execution_count": 1,
   "metadata": {},
   "outputs": [
    {
     "ename": "NameError",
     "evalue": "name 'df' is not defined",
     "output_type": "error",
     "traceback": [
      "\u001b[1;31m---------------------------------------------------------------------------\u001b[0m",
      "\u001b[1;31mNameError\u001b[0m                                 Traceback (most recent call last)",
      "\u001b[1;32m<ipython-input-1-00cf07b74dcd>\u001b[0m in \u001b[0;36m<module>\u001b[1;34m\u001b[0m\n\u001b[1;32m----> 1\u001b[1;33m \u001b[0mdf\u001b[0m\u001b[1;33m\u001b[0m\u001b[1;33m\u001b[0m\u001b[0m\n\u001b[0m",
      "\u001b[1;31mNameError\u001b[0m: name 'df' is not defined"
     ]
    }
   ],
   "source": [
    "df"
   ]
  },
  {
   "cell_type": "code",
   "execution_count": 391,
   "metadata": {},
   "outputs": [
    {
     "data": {
      "text/html": [
       "<div>\n",
       "<style scoped>\n",
       "    .dataframe tbody tr th:only-of-type {\n",
       "        vertical-align: middle;\n",
       "    }\n",
       "\n",
       "    .dataframe tbody tr th {\n",
       "        vertical-align: top;\n",
       "    }\n",
       "\n",
       "    .dataframe thead th {\n",
       "        text-align: right;\n",
       "    }\n",
       "</style>\n",
       "<table border=\"1\" class=\"dataframe\">\n",
       "  <thead>\n",
       "    <tr style=\"text-align: right;\">\n",
       "      <th></th>\n",
       "      <th>Toode</th>\n",
       "      <th>hind</th>\n",
       "      <th>Hind/Kogus</th>\n",
       "      <th>(hind, Hind/Kogus)</th>\n",
       "    </tr>\n",
       "  </thead>\n",
       "  <tbody>\n",
       "    <tr>\n",
       "      <th>0</th>\n",
       "      <td>Banaan Chiquita, kg</td>\n",
       "      <td>NaN</td>\n",
       "      <td>NaN</td>\n",
       "      <td>[1,39 €, 1,39 €/kg]</td>\n",
       "    </tr>\n",
       "    <tr>\n",
       "      <th>1</th>\n",
       "      <td>Kurk Luunja, kg</td>\n",
       "      <td>NaN</td>\n",
       "      <td>NaN</td>\n",
       "      <td>[5,99 €, 5,99 €/kg]</td>\n",
       "    </tr>\n",
       "    <tr>\n",
       "      <th>2</th>\n",
       "      <td>Kirssploomtomat, 250 g</td>\n",
       "      <td>NaN</td>\n",
       "      <td>NaN</td>\n",
       "      <td>[1,29 €, 5,16 €/kg]</td>\n",
       "    </tr>\n",
       "    <tr>\n",
       "      <th>3</th>\n",
       "      <td>Kirsskobartomat, 500 g</td>\n",
       "      <td>NaN</td>\n",
       "      <td>NaN</td>\n",
       "      <td>[2,99 €, 5,98 €/kg]</td>\n",
       "    </tr>\n",
       "    <tr>\n",
       "      <th>4</th>\n",
       "      <td>Apelsin Navel, kg</td>\n",
       "      <td>NaN</td>\n",
       "      <td>NaN</td>\n",
       "      <td>[1,59 €, 1,59 €/kg]</td>\n",
       "    </tr>\n",
       "    <tr>\n",
       "      <th>...</th>\n",
       "      <td>...</td>\n",
       "      <td>...</td>\n",
       "      <td>...</td>\n",
       "      <td>...</td>\n",
       "    </tr>\n",
       "    <tr>\n",
       "      <th>10350</th>\n",
       "      <td>Šokolaaditort, EESTI PAGAR, 1 kg</td>\n",
       "      <td>NaN</td>\n",
       "      <td>NaN</td>\n",
       "      <td>[12,49 €, 12,49 €/kg]</td>\n",
       "    </tr>\n",
       "    <tr>\n",
       "      <th>10351</th>\n",
       "      <td>Kakaokeeks Kinder Delice, FERRERO, 42g</td>\n",
       "      <td>NaN</td>\n",
       "      <td>NaN</td>\n",
       "      <td>[0,59 €, 14,05 €/kg]</td>\n",
       "    </tr>\n",
       "    <tr>\n",
       "      <th>10352</th>\n",
       "      <td>Sarapuupähklitega piimašokolaadipallid Lindor,...</td>\n",
       "      <td>NaN</td>\n",
       "      <td>NaN</td>\n",
       "      <td>[6,99 €, 34,95 €/kg]</td>\n",
       "    </tr>\n",
       "    <tr>\n",
       "      <th>10353</th>\n",
       "      <td>Jahvatatud kohv Dansk Guld purgis, MERRILD, 250g</td>\n",
       "      <td>NaN</td>\n",
       "      <td>NaN</td>\n",
       "      <td>[4,99 €, 19,96 €/kg]</td>\n",
       "    </tr>\n",
       "    <tr>\n",
       "      <th>10354</th>\n",
       "      <td>Valgustatud põdra pea pruun, FINNLUMOR, 1tk</td>\n",
       "      <td>NaN</td>\n",
       "      <td>NaN</td>\n",
       "      <td>[24,90 €, 24,90 €/tk]</td>\n",
       "    </tr>\n",
       "  </tbody>\n",
       "</table>\n",
       "<p>10355 rows × 4 columns</p>\n",
       "</div>"
      ],
      "text/plain": [
       "                                                   Toode  hind  Hind/Kogus  \\\n",
       "0                                    Banaan Chiquita, kg   NaN         NaN   \n",
       "1                                        Kurk Luunja, kg   NaN         NaN   \n",
       "2                                 Kirssploomtomat, 250 g   NaN         NaN   \n",
       "3                                 Kirsskobartomat, 500 g   NaN         NaN   \n",
       "4                                      Apelsin Navel, kg   NaN         NaN   \n",
       "...                                                  ...   ...         ...   \n",
       "10350                   Šokolaaditort, EESTI PAGAR, 1 kg   NaN         NaN   \n",
       "10351             Kakaokeeks Kinder Delice, FERRERO, 42g   NaN         NaN   \n",
       "10352  Sarapuupähklitega piimašokolaadipallid Lindor,...   NaN         NaN   \n",
       "10353   Jahvatatud kohv Dansk Guld purgis, MERRILD, 250g   NaN         NaN   \n",
       "10354        Valgustatud põdra pea pruun, FINNLUMOR, 1tk   NaN         NaN   \n",
       "\n",
       "          (hind, Hind/Kogus)  \n",
       "0        [1,39 €, 1,39 €/kg]  \n",
       "1        [5,99 €, 5,99 €/kg]  \n",
       "2        [1,29 €, 5,16 €/kg]  \n",
       "3        [2,99 €, 5,98 €/kg]  \n",
       "4        [1,59 €, 1,59 €/kg]  \n",
       "...                      ...  \n",
       "10350  [12,49 €, 12,49 €/kg]  \n",
       "10351   [0,59 €, 14,05 €/kg]  \n",
       "10352   [6,99 €, 34,95 €/kg]  \n",
       "10353   [4,99 €, 19,96 €/kg]  \n",
       "10354  [24,90 €, 24,90 €/tk]  \n",
       "\n",
       "[10355 rows x 4 columns]"
      ]
     },
     "execution_count": 391,
     "metadata": {},
     "output_type": "execute_result"
    }
   ],
   "source": [
    "df"
   ]
  },
  {
   "cell_type": "code",
   "execution_count": null,
   "metadata": {},
   "outputs": [],
   "source": []
  },
  {
   "cell_type": "code",
   "execution_count": null,
   "metadata": {},
   "outputs": [],
   "source": []
  },
  {
   "cell_type": "code",
   "execution_count": null,
   "metadata": {},
   "outputs": [],
   "source": []
  },
  {
   "cell_type": "code",
   "execution_count": null,
   "metadata": {},
   "outputs": [],
   "source": []
  },
  {
   "cell_type": "code",
   "execution_count": null,
   "metadata": {},
   "outputs": [],
   "source": []
  }
 ],
 "metadata": {
  "kernelspec": {
   "display_name": "Python 3",
   "language": "python",
   "name": "python3"
  },
  "language_info": {
   "codemirror_mode": {
    "name": "ipython",
    "version": 3
   },
   "file_extension": ".py",
   "mimetype": "text/x-python",
   "name": "python",
   "nbconvert_exporter": "python",
   "pygments_lexer": "ipython3",
   "version": "3.9.1"
  }
 },
 "nbformat": 4,
 "nbformat_minor": 4
}
