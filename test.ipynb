{
 "cells": [
  {
   "cell_type": "code",
   "execution_count": 1,
   "metadata": {},
   "outputs": [],
   "source": [
    "from pprint import pprint\n",
    "import jmespath\n",
    "import requests\n",
    "from bs4 import BeautifulSoup as BS4\n",
    "from textwrap import dedent\n",
    "import re"
   ]
  },
  {
   "cell_type": "code",
   "execution_count": 2,
   "metadata": {},
   "outputs": [],
   "source": [
    "req = requests.get('https://www.selver.ee/')"
   ]
  },
  {
   "cell_type": "code",
   "execution_count": 3,
   "metadata": {},
   "outputs": [],
   "source": [
    "soup = BS4(req.content, features='html.parser')"
   ]
  },
  {
   "cell_type": "code",
   "execution_count": 4,
   "metadata": {},
   "outputs": [],
   "source": [
    "#esilehelt URL otsingu regex\n",
    "url_class = re.compile(r'(item level0 nav.\\w+.+\\d)')\n",
    "#Hinna ja toote otsingu regex\n",
    "product_class = re.compile(r'(col-lg-3 \\w+).+') \n",
    "product_price = re.compile(r'(\"price\")')"
   ]
  },
  {
   "cell_type": "code",
   "execution_count": 5,
   "metadata": {},
   "outputs": [],
   "source": [
    "#Leia kõik HTML Li tagilt mis hoiab URLi\n",
    "find_tag = soup.find_all('li',{'class':url_class})"
   ]
  },
  {
   "cell_type": "code",
   "execution_count": 6,
   "metadata": {},
   "outputs": [],
   "source": [
    "#leia URL'id ja lista toote nimekirja pikkus\n",
    "get_urls = [i.find_next('a').get('href')+\"/?limit=96&p=\" for i in find_tag]"
   ]
  },
  {
   "cell_type": "code",
   "execution_count": 7,
   "metadata": {
    "collapsed": true
   },
   "outputs": [
    {
     "data": {
      "text/plain": [
       "['https://www.selver.ee/minu-tooted/?limit=96&p=',\n",
       " 'https://www.selver.ee/uudistooted/?limit=96&p=',\n",
       " 'https://www.selver.ee/soodushinnaga-tooted/?limit=96&p=',\n",
       " 'https://www.selver.ee/eritooted/?limit=96&p=',\n",
       " 'https://www.selver.ee/hulgipakkumised/?limit=96&p=',\n",
       " 'https://www.selver.ee/puu-ja-koogiviljad/?limit=96&p=',\n",
       " 'https://www.selver.ee/liha-ja-kalatooted/?limit=96&p=',\n",
       " 'https://www.selver.ee/piimatooted-munad-void/?limit=96&p=',\n",
       " 'https://www.selver.ee/juustud/?limit=96&p=',\n",
       " 'https://www.selver.ee/leivad-saiad-kondiitritooted/?limit=96&p=',\n",
       " 'https://www.selver.ee/valmistoidud/?limit=96&p=',\n",
       " 'https://www.selver.ee/kuivained-hoidised/?limit=96&p=',\n",
       " 'https://www.selver.ee/maitseained-ja-puljongid/?limit=96&p=',\n",
       " 'https://www.selver.ee/kastmed-olid/?limit=96&p=',\n",
       " 'https://www.selver.ee/maiustused-kupsised-naksid/?limit=96&p=',\n",
       " 'https://www.selver.ee/kulmutatud-toidukaubad/?limit=96&p=',\n",
       " 'https://www.selver.ee/joogid/?limit=96&p=',\n",
       " 'https://www.selver.ee/lastekaubad/?limit=96&p=',\n",
       " 'https://www.selver.ee/lemmiklooma-kaubad/?limit=96&p=',\n",
       " 'https://www.selver.ee/enesehooldustarbed/?limit=96&p=',\n",
       " 'https://www.selver.ee/majapidamis-ja-kodukaubad/?limit=96&p=',\n",
       " 'https://www.selver.ee/vabaajakaubad/?limit=96&p=',\n",
       " 'https://www.selver.ee/hooaja-ja-puhadekaubad/?limit=96&p=']"
      ]
     },
     "execution_count": 7,
     "metadata": {},
     "output_type": "execute_result"
    }
   ],
   "source": [
    "get_urls"
   ]
  },
  {
   "cell_type": "code",
   "execution_count": 11,
   "metadata": {},
   "outputs": [],
   "source": [
    "#Kogu html linkide kogust\n",
    "product_html = requests.get(get_urls[5])\n",
    "#puhasta ilusa seebiga\n",
    "soup = BS4(product_html.content, features='html.parser')\n",
    "#leia toote ja hinna kategoorijad li tagist\n",
    "find_product_group = soup.find_all('li',{'class':product_class})\n",
    "#leia hinnad\n",
    "find_product_group_prices = soup.find_all('span',{'class':'price'})\n",
    "#võta linki pealkirjad ehk toote nimed\n",
    "find_product_group_titles = [i.find_next('a').get('title') for i in find_product_group]\n",
    "#leia kõik hinnad\n",
    "prices = [dedent(i.text.replace(u'\\xa0',' ')) for i in find_product_group_prices if len(i) > 1]"
   ]
  },
  {
   "cell_type": "code",
   "execution_count": 8,
   "metadata": {},
   "outputs": [],
   "source": [
    "html_list = list()\n",
    "dict_of_products = dict()"
   ]
  },
  {
   "cell_type": "code",
   "execution_count": 9,
   "metadata": {
    "collapsed": true
   },
   "outputs": [
    {
     "name": "stdout",
     "output_type": "stream",
     "text": [
      "Page URI https://www.selver.ee/puu-ja-koogiviljad/?limit=96&p=1 Last page is 4\n",
      "Page URI https://www.selver.ee/puu-ja-koogiviljad/?limit=96&p=2 Last page is 4\n",
      "Page URI https://www.selver.ee/puu-ja-koogiviljad/?limit=96&p=3 Last page is 4\n",
      "Page URI https://www.selver.ee/puu-ja-koogiviljad/?limit=96&p=4 Last page is 4\n",
      "Page URI https://www.selver.ee/liha-ja-kalatooted/?limit=96&p=1 Last page is 9\n",
      "Page URI https://www.selver.ee/liha-ja-kalatooted/?limit=96&p=2 Last page is 9\n",
      "Page URI https://www.selver.ee/liha-ja-kalatooted/?limit=96&p=3 Last page is 9\n",
      "Page URI https://www.selver.ee/liha-ja-kalatooted/?limit=96&p=4 Last page is 9\n",
      "Page URI https://www.selver.ee/liha-ja-kalatooted/?limit=96&p=5 Last page is 9\n",
      "Page URI https://www.selver.ee/liha-ja-kalatooted/?limit=96&p=6 Last page is 9\n",
      "Page URI https://www.selver.ee/liha-ja-kalatooted/?limit=96&p=7 Last page is 9\n",
      "Page URI https://www.selver.ee/liha-ja-kalatooted/?limit=96&p=8 Last page is 9\n",
      "Page URI https://www.selver.ee/liha-ja-kalatooted/?limit=96&p=9 Last page is 9\n",
      "Page URI https://www.selver.ee/piimatooted-munad-void/?limit=96&p=1 Last page is 6\n",
      "Page URI https://www.selver.ee/piimatooted-munad-void/?limit=96&p=2 Last page is 6\n",
      "Page URI https://www.selver.ee/piimatooted-munad-void/?limit=96&p=3 Last page is 6\n",
      "Page URI https://www.selver.ee/piimatooted-munad-void/?limit=96&p=4 Last page is 6\n",
      "Page URI https://www.selver.ee/piimatooted-munad-void/?limit=96&p=5 Last page is 6\n",
      "Page URI https://www.selver.ee/piimatooted-munad-void/?limit=96&p=6 Last page is 6\n",
      "Page URI https://www.selver.ee/juustud/?limit=96&p=1 Last page is 4\n",
      "Page URI https://www.selver.ee/juustud/?limit=96&p=2 Last page is 4\n",
      "Page URI https://www.selver.ee/juustud/?limit=96&p=3 Last page is 4\n",
      "Page URI https://www.selver.ee/juustud/?limit=96&p=4 Last page is 4\n",
      "Page URI https://www.selver.ee/leivad-saiad-kondiitritooted/?limit=96&p=1 Last page is 4\n",
      "Page URI https://www.selver.ee/leivad-saiad-kondiitritooted/?limit=96&p=2 Last page is 4\n",
      "Page URI https://www.selver.ee/leivad-saiad-kondiitritooted/?limit=96&p=3 Last page is 4\n",
      "Page URI https://www.selver.ee/leivad-saiad-kondiitritooted/?limit=96&p=4 Last page is 4\n",
      "Page URI https://www.selver.ee/valmistoidud/?limit=96&p=1 Last page is 3\n",
      "Page URI https://www.selver.ee/valmistoidud/?limit=96&p=2 Last page is 3\n",
      "Page URI https://www.selver.ee/valmistoidud/?limit=96&p=3 Last page is 3\n",
      "Page URI https://www.selver.ee/kuivained-hoidised/?limit=96&p=1 Last page is 11\n",
      "Page URI https://www.selver.ee/kuivained-hoidised/?limit=96&p=2 Last page is 11\n",
      "Page URI https://www.selver.ee/kuivained-hoidised/?limit=96&p=3 Last page is 11\n",
      "Page URI https://www.selver.ee/kuivained-hoidised/?limit=96&p=4 Last page is 11\n",
      "Page URI https://www.selver.ee/kuivained-hoidised/?limit=96&p=5 Last page is 11\n",
      "Page URI https://www.selver.ee/kuivained-hoidised/?limit=96&p=6 Last page is 11\n",
      "Page URI https://www.selver.ee/kuivained-hoidised/?limit=96&p=7 Last page is 11\n",
      "Page URI https://www.selver.ee/kuivained-hoidised/?limit=96&p=8 Last page is 11\n",
      "Page URI https://www.selver.ee/kuivained-hoidised/?limit=96&p=9 Last page is 11\n",
      "Page URI https://www.selver.ee/kuivained-hoidised/?limit=96&p=10 Last page is 11\n",
      "Page URI https://www.selver.ee/kuivained-hoidised/?limit=96&p=11 Last page is 11\n",
      "Page URI https://www.selver.ee/maitseained-ja-puljongid/?limit=96&p=1 Last page is 6\n",
      "Page URI https://www.selver.ee/maitseained-ja-puljongid/?limit=96&p=2 Last page is 6\n",
      "Page URI https://www.selver.ee/maitseained-ja-puljongid/?limit=96&p=3 Last page is 6\n",
      "Page URI https://www.selver.ee/maitseained-ja-puljongid/?limit=96&p=4 Last page is 6\n",
      "Page URI https://www.selver.ee/maitseained-ja-puljongid/?limit=96&p=5 Last page is 6\n",
      "Page URI https://www.selver.ee/maitseained-ja-puljongid/?limit=96&p=6 Last page is 6\n",
      "Page URI https://www.selver.ee/kastmed-olid/?limit=96&p=1 Last page is 3\n",
      "Page URI https://www.selver.ee/kastmed-olid/?limit=96&p=2 Last page is 3\n",
      "Page URI https://www.selver.ee/kastmed-olid/?limit=96&p=3 Last page is 3\n",
      "Page URI https://www.selver.ee/maiustused-kupsised-naksid/?limit=96&p=1 Last page is 9\n",
      "Page URI https://www.selver.ee/maiustused-kupsised-naksid/?limit=96&p=2 Last page is 9\n",
      "Page URI https://www.selver.ee/maiustused-kupsised-naksid/?limit=96&p=3 Last page is 9\n",
      "Page URI https://www.selver.ee/maiustused-kupsised-naksid/?limit=96&p=4 Last page is 9\n",
      "Page URI https://www.selver.ee/maiustused-kupsised-naksid/?limit=96&p=5 Last page is 9\n",
      "Page URI https://www.selver.ee/maiustused-kupsised-naksid/?limit=96&p=6 Last page is 9\n",
      "Page URI https://www.selver.ee/maiustused-kupsised-naksid/?limit=96&p=7 Last page is 9\n",
      "Page URI https://www.selver.ee/maiustused-kupsised-naksid/?limit=96&p=8 Last page is 9\n",
      "Page URI https://www.selver.ee/maiustused-kupsised-naksid/?limit=96&p=9 Last page is 9\n",
      "Page URI https://www.selver.ee/kulmutatud-toidukaubad/?limit=96&p=1 Last page is 5\n",
      "Page URI https://www.selver.ee/kulmutatud-toidukaubad/?limit=96&p=2 Last page is 5\n",
      "Page URI https://www.selver.ee/kulmutatud-toidukaubad/?limit=96&p=3 Last page is 5\n",
      "Page URI https://www.selver.ee/kulmutatud-toidukaubad/?limit=96&p=4 Last page is 5\n",
      "Page URI https://www.selver.ee/kulmutatud-toidukaubad/?limit=96&p=5 Last page is 5\n",
      "Page URI https://www.selver.ee/joogid/?limit=96&p=1 Last page is 23\n",
      "Page URI https://www.selver.ee/joogid/?limit=96&p=2 Last page is 23\n",
      "Page URI https://www.selver.ee/joogid/?limit=96&p=3 Last page is 23\n",
      "Page URI https://www.selver.ee/joogid/?limit=96&p=4 Last page is 23\n",
      "Page URI https://www.selver.ee/joogid/?limit=96&p=5 Last page is 23\n",
      "Page URI https://www.selver.ee/joogid/?limit=96&p=6 Last page is 23\n",
      "Page URI https://www.selver.ee/joogid/?limit=96&p=7 Last page is 23\n",
      "Page URI https://www.selver.ee/joogid/?limit=96&p=8 Last page is 23\n",
      "Page URI https://www.selver.ee/joogid/?limit=96&p=9 Last page is 23\n",
      "Page URI https://www.selver.ee/joogid/?limit=96&p=10 Last page is 23\n",
      "Page URI https://www.selver.ee/joogid/?limit=96&p=11 Last page is 23\n",
      "Page URI https://www.selver.ee/joogid/?limit=96&p=12 Last page is 23\n",
      "Page URI https://www.selver.ee/joogid/?limit=96&p=13 Last page is 23\n",
      "Page URI https://www.selver.ee/joogid/?limit=96&p=14 Last page is 23\n",
      "Page URI https://www.selver.ee/joogid/?limit=96&p=15 Last page is 23\n",
      "Page URI https://www.selver.ee/joogid/?limit=96&p=16 Last page is 23\n",
      "Page URI https://www.selver.ee/joogid/?limit=96&p=17 Last page is 23\n",
      "Page URI https://www.selver.ee/joogid/?limit=96&p=18 Last page is 23\n",
      "Page URI https://www.selver.ee/joogid/?limit=96&p=19 Last page is 23\n",
      "Page URI https://www.selver.ee/joogid/?limit=96&p=20 Last page is 23\n",
      "Page URI https://www.selver.ee/joogid/?limit=96&p=21 Last page is 23\n",
      "Page URI https://www.selver.ee/joogid/?limit=96&p=22 Last page is 23\n",
      "Page URI https://www.selver.ee/joogid/?limit=96&p=23 Last page is 23\n",
      "Page URI https://www.selver.ee/lastekaubad/?limit=96&p=1 Last page is 4\n",
      "Page URI https://www.selver.ee/lastekaubad/?limit=96&p=2 Last page is 4\n",
      "Page URI https://www.selver.ee/lastekaubad/?limit=96&p=3 Last page is 4\n",
      "Page URI https://www.selver.ee/lastekaubad/?limit=96&p=4 Last page is 4\n",
      "Page URI https://www.selver.ee/lemmiklooma-kaubad/?limit=96&p=1 Last page is 3\n",
      "Page URI https://www.selver.ee/lemmiklooma-kaubad/?limit=96&p=2 Last page is 3\n",
      "Page URI https://www.selver.ee/lemmiklooma-kaubad/?limit=96&p=3 Last page is 3\n",
      "Page URI https://www.selver.ee/enesehooldustarbed/?limit=96&p=1 Last page is 12\n",
      "Page URI https://www.selver.ee/enesehooldustarbed/?limit=96&p=2 Last page is 12\n",
      "Page URI https://www.selver.ee/enesehooldustarbed/?limit=96&p=3 Last page is 12\n",
      "Page URI https://www.selver.ee/enesehooldustarbed/?limit=96&p=4 Last page is 12\n",
      "Page URI https://www.selver.ee/enesehooldustarbed/?limit=96&p=5 Last page is 12\n",
      "Page URI https://www.selver.ee/enesehooldustarbed/?limit=96&p=6 Last page is 12\n",
      "Page URI https://www.selver.ee/enesehooldustarbed/?limit=96&p=7 Last page is 12\n",
      "Page URI https://www.selver.ee/enesehooldustarbed/?limit=96&p=8 Last page is 12\n",
      "Page URI https://www.selver.ee/enesehooldustarbed/?limit=96&p=9 Last page is 12\n",
      "Page URI https://www.selver.ee/enesehooldustarbed/?limit=96&p=10 Last page is 12\n",
      "Page URI https://www.selver.ee/enesehooldustarbed/?limit=96&p=11 Last page is 12\n",
      "Page URI https://www.selver.ee/enesehooldustarbed/?limit=96&p=12 Last page is 12\n"
     ]
    },
    {
     "name": "stdout",
     "output_type": "stream",
     "text": [
      "Page URI https://www.selver.ee/majapidamis-ja-kodukaubad/?limit=96&p=1 Last page is 12\n",
      "Page URI https://www.selver.ee/majapidamis-ja-kodukaubad/?limit=96&p=2 Last page is 12\n",
      "Page URI https://www.selver.ee/majapidamis-ja-kodukaubad/?limit=96&p=3 Last page is 12\n",
      "Page URI https://www.selver.ee/majapidamis-ja-kodukaubad/?limit=96&p=4 Last page is 12\n",
      "Page URI https://www.selver.ee/majapidamis-ja-kodukaubad/?limit=96&p=5 Last page is 12\n",
      "Page URI https://www.selver.ee/majapidamis-ja-kodukaubad/?limit=96&p=6 Last page is 12\n",
      "Page URI https://www.selver.ee/majapidamis-ja-kodukaubad/?limit=96&p=7 Last page is 12\n",
      "Page URI https://www.selver.ee/majapidamis-ja-kodukaubad/?limit=96&p=8 Last page is 12\n",
      "Page URI https://www.selver.ee/majapidamis-ja-kodukaubad/?limit=96&p=9 Last page is 12\n",
      "Page URI https://www.selver.ee/majapidamis-ja-kodukaubad/?limit=96&p=10 Last page is 12\n",
      "Page URI https://www.selver.ee/majapidamis-ja-kodukaubad/?limit=96&p=11 Last page is 12\n",
      "Page URI https://www.selver.ee/majapidamis-ja-kodukaubad/?limit=96&p=12 Last page is 12\n",
      "Page URI https://www.selver.ee/vabaajakaubad/?limit=96&p=1 Last page is 6\n",
      "Page URI https://www.selver.ee/vabaajakaubad/?limit=96&p=2 Last page is 6\n",
      "Page URI https://www.selver.ee/vabaajakaubad/?limit=96&p=3 Last page is 6\n",
      "Page URI https://www.selver.ee/vabaajakaubad/?limit=96&p=4 Last page is 6\n",
      "Page URI https://www.selver.ee/vabaajakaubad/?limit=96&p=5 Last page is 6\n",
      "Page URI https://www.selver.ee/vabaajakaubad/?limit=96&p=6 Last page is 6\n",
      "Page URI https://www.selver.ee/hooaja-ja-puhadekaubad/?limit=96&p=1 Last page is 3\n",
      "Page URI https://www.selver.ee/hooaja-ja-puhadekaubad/?limit=96&p=2 Last page is 3\n",
      "Page URI https://www.selver.ee/hooaja-ja-puhadekaubad/?limit=96&p=3 Last page is 3\n"
     ]
    }
   ],
   "source": [
    "#start of the urls and end of the URLS\n",
    "for z in range(5,23):\n",
    "    #Find product last page\n",
    "    product_html = requests.get(get_urls[z])\n",
    "    #puhasta ilusa seebiga\n",
    "    soup = BS4(product_html.content, features='html.parser')\n",
    "    try:\n",
    "        find_product_last_page = soup.find('a',{'class':'last'}).text\n",
    "    except AttributeError:\n",
    "        find_product_last_page = 3\n",
    "    \n",
    "    for i in range(1,int(find_product_last_page)+1):\n",
    "        product_html = requests.get(get_urls[z]+str(i))\n",
    "        soup = BS4(product_html.content, features='html.parser')\n",
    "        html_list.append(soup)  \n",
    "        print(f\"Page URI {get_urls[z]+str(i)} Last page is {find_product_last_page}\")\n",
    "\n",
    "    for y in range(len(html_list)):  \n",
    "        find_product_group = html_list[y].find_all('li',{'class':product_class})\n",
    "        find_product_group_prices = html_list[y].find_all('span',{'class':'price'})\n",
    "        find_product_group_titles = [i.find_next('a').get('title') for i in find_product_group]\n",
    "        prices = [dedent(i.text.replace(u'\\xa0',' ')) for i in find_product_group_prices if len(i) > 1]\n",
    "        for t,f in zip(find_product_group_titles,prices):\n",
    "            dict_of_products.update({t:f})"
   ]
  },
  {
   "cell_type": "code",
   "execution_count": 23,
   "metadata": {},
   "outputs": [],
   "source": [
    "import pandas as pd"
   ]
  },
  {
   "cell_type": "code",
   "execution_count": 64,
   "metadata": {},
   "outputs": [],
   "source": [
    "df = pd.DataFrame(columns=['Toode','Hind'])"
   ]
  },
  {
   "cell_type": "code",
   "execution_count": 66,
   "metadata": {},
   "outputs": [],
   "source": [
    "df['Toode'] = dict_of_products.keys()\n",
    "df['Hind'] = dict_of_products.values()"
   ]
  },
  {
   "cell_type": "code",
   "execution_count": 27,
   "metadata": {},
   "outputs": [],
   "source": [
    "csv_file = pd.read_csv('selver_data.csv')"
   ]
  },
  {
   "cell_type": "code",
   "execution_count": 30,
   "metadata": {},
   "outputs": [],
   "source": [
    "csv_file.drop(['Unnamed: 0'], axis=1, inplace=True)"
   ]
  },
  {
   "cell_type": "code",
   "execution_count": 35,
   "metadata": {},
   "outputs": [],
   "source": [
    "choices = [i for i in csv_file['Toode']]"
   ]
  },
  {
   "cell_type": "code",
   "execution_count": 37,
   "metadata": {},
   "outputs": [
    {
     "data": {
      "text/plain": [
       "10462"
      ]
     },
     "execution_count": 37,
     "metadata": {},
     "output_type": "execute_result"
    }
   ],
   "source": [
    "len(choices)"
   ]
  },
  {
   "cell_type": "code",
   "execution_count": null,
   "metadata": {},
   "outputs": [],
   "source": []
  },
  {
   "cell_type": "code",
   "execution_count": null,
   "metadata": {},
   "outputs": [],
   "source": []
  },
  {
   "cell_type": "code",
   "execution_count": null,
   "metadata": {},
   "outputs": [],
   "source": []
  }
 ],
 "metadata": {
  "kernelspec": {
   "display_name": "Python 3",
   "language": "python",
   "name": "python3"
  },
  "language_info": {
   "codemirror_mode": {
    "name": "ipython",
    "version": 3
   },
   "file_extension": ".py",
   "mimetype": "text/x-python",
   "name": "python",
   "nbconvert_exporter": "python",
   "pygments_lexer": "ipython3",
   "version": "3.9.1"
  }
 },
 "nbformat": 4,
 "nbformat_minor": 4
}
