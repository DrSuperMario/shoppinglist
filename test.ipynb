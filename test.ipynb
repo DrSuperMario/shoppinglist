{
 "cells": [
  {
   "cell_type": "code",
   "execution_count": 1,
   "metadata": {},
   "outputs": [],
   "source": [
    "from pprint import pprint\n",
    "import jmespath\n",
    "import requests\n",
    "from bs4 import BeautifulSoup as BS4\n",
    "from textwrap import dedent\n",
    "import re"
   ]
  },
  {
   "cell_type": "code",
   "execution_count": 2,
   "metadata": {},
   "outputs": [],
   "source": [
    "req = requests.get('https://www.selver.ee/')\n",
    "soup = BS4(req.content, features='html.parser')\n",
    "#esilehelt URL otsingu regex\n",
    "url_class = re.compile(r'(item level0 nav.\\w+.+\\d)')\n",
    "#Hinna ja toote otsingu regex\n",
    "product_class = re.compile(r'(col-lg-3 \\w+).+') \n",
    "product_price = re.compile(r'(\"price\")')\n",
    "price_and_qty = re.compile(r'\\s+(\\d+.+)')\n",
    "#Leia kõik HTML Li tagilt mis hoiab URLi\n",
    "find_tag = soup.find_all('li',{'class':url_class})\n",
    "#leia URL'id ja lista toote nimekirja pikkus\n",
    "get_urls = [i.find_next('a').get('href')+\"/?limit=96&p=\" for i in find_tag]"
   ]
  },
  {
   "cell_type": "code",
   "execution_count": 3,
   "metadata": {},
   "outputs": [],
   "source": [
    "html_list = list()\n",
    "list_of_products = list()\n",
    "list_of_prices = list()\n",
    "dict_of_products = dict()"
   ]
  },
  {
   "cell_type": "code",
   "execution_count": 4,
   "metadata": {},
   "outputs": [
    {
     "name": "stdout",
     "output_type": "stream",
     "text": [
      "Page URL: https://www.selver.ee/puu-ja-koogiviljad/?limit=96&p=1 Last page is: 4\n",
      "Page URL: https://www.selver.ee/puu-ja-koogiviljad/?limit=96&p=2 Last page is: 4\n",
      "Page URL: https://www.selver.ee/puu-ja-koogiviljad/?limit=96&p=3 Last page is: 4\n",
      "Page URL: https://www.selver.ee/puu-ja-koogiviljad/?limit=96&p=4 Last page is: 4\n",
      "Page URL: https://www.selver.ee/liha-ja-kalatooted/?limit=96&p=1 Last page is: 9\n",
      "Page URL: https://www.selver.ee/liha-ja-kalatooted/?limit=96&p=2 Last page is: 9\n",
      "Page URL: https://www.selver.ee/liha-ja-kalatooted/?limit=96&p=3 Last page is: 9\n",
      "Page URL: https://www.selver.ee/liha-ja-kalatooted/?limit=96&p=4 Last page is: 9\n",
      "Page URL: https://www.selver.ee/liha-ja-kalatooted/?limit=96&p=5 Last page is: 9\n",
      "Page URL: https://www.selver.ee/liha-ja-kalatooted/?limit=96&p=6 Last page is: 9\n",
      "Page URL: https://www.selver.ee/liha-ja-kalatooted/?limit=96&p=7 Last page is: 9\n",
      "Page URL: https://www.selver.ee/liha-ja-kalatooted/?limit=96&p=8 Last page is: 9\n",
      "Page URL: https://www.selver.ee/liha-ja-kalatooted/?limit=96&p=9 Last page is: 9\n",
      "Page URL: https://www.selver.ee/piimatooted-munad-void/?limit=96&p=1 Last page is: 6\n",
      "Page URL: https://www.selver.ee/piimatooted-munad-void/?limit=96&p=2 Last page is: 6\n",
      "Page URL: https://www.selver.ee/piimatooted-munad-void/?limit=96&p=3 Last page is: 6\n",
      "Page URL: https://www.selver.ee/piimatooted-munad-void/?limit=96&p=4 Last page is: 6\n",
      "Page URL: https://www.selver.ee/piimatooted-munad-void/?limit=96&p=5 Last page is: 6\n",
      "Page URL: https://www.selver.ee/piimatooted-munad-void/?limit=96&p=6 Last page is: 6\n",
      "Page URL: https://www.selver.ee/juustud/?limit=96&p=1 Last page is: 4\n",
      "Page URL: https://www.selver.ee/juustud/?limit=96&p=2 Last page is: 4\n",
      "Page URL: https://www.selver.ee/juustud/?limit=96&p=3 Last page is: 4\n",
      "Page URL: https://www.selver.ee/juustud/?limit=96&p=4 Last page is: 4\n",
      "Page URL: https://www.selver.ee/leivad-saiad-kondiitritooted/?limit=96&p=1 Last page is: 4\n",
      "Page URL: https://www.selver.ee/leivad-saiad-kondiitritooted/?limit=96&p=2 Last page is: 4\n",
      "Page URL: https://www.selver.ee/leivad-saiad-kondiitritooted/?limit=96&p=3 Last page is: 4\n",
      "Page URL: https://www.selver.ee/leivad-saiad-kondiitritooted/?limit=96&p=4 Last page is: 4\n",
      "Page URL: https://www.selver.ee/valmistoidud/?limit=96&p=1 Last page is: 3\n",
      "Page URL: https://www.selver.ee/valmistoidud/?limit=96&p=2 Last page is: 3\n",
      "Page URL: https://www.selver.ee/valmistoidud/?limit=96&p=3 Last page is: 3\n",
      "Page URL: https://www.selver.ee/kuivained-hoidised/?limit=96&p=1 Last page is: 11\n",
      "Page URL: https://www.selver.ee/kuivained-hoidised/?limit=96&p=2 Last page is: 11\n",
      "Page URL: https://www.selver.ee/kuivained-hoidised/?limit=96&p=3 Last page is: 11\n",
      "Page URL: https://www.selver.ee/kuivained-hoidised/?limit=96&p=4 Last page is: 11\n",
      "Page URL: https://www.selver.ee/kuivained-hoidised/?limit=96&p=5 Last page is: 11\n",
      "Page URL: https://www.selver.ee/kuivained-hoidised/?limit=96&p=6 Last page is: 11\n",
      "Page URL: https://www.selver.ee/kuivained-hoidised/?limit=96&p=7 Last page is: 11\n",
      "Page URL: https://www.selver.ee/kuivained-hoidised/?limit=96&p=8 Last page is: 11\n",
      "Page URL: https://www.selver.ee/kuivained-hoidised/?limit=96&p=9 Last page is: 11\n",
      "Page URL: https://www.selver.ee/kuivained-hoidised/?limit=96&p=10 Last page is: 11\n",
      "Page URL: https://www.selver.ee/kuivained-hoidised/?limit=96&p=11 Last page is: 11\n",
      "Page URL: https://www.selver.ee/maitseained-ja-puljongid/?limit=96&p=1 Last page is: 6\n",
      "Page URL: https://www.selver.ee/maitseained-ja-puljongid/?limit=96&p=2 Last page is: 6\n",
      "Page URL: https://www.selver.ee/maitseained-ja-puljongid/?limit=96&p=3 Last page is: 6\n",
      "Page URL: https://www.selver.ee/maitseained-ja-puljongid/?limit=96&p=4 Last page is: 6\n",
      "Page URL: https://www.selver.ee/maitseained-ja-puljongid/?limit=96&p=5 Last page is: 6\n",
      "Page URL: https://www.selver.ee/maitseained-ja-puljongid/?limit=96&p=6 Last page is: 6\n",
      "Page URL: https://www.selver.ee/kastmed-olid/?limit=96&p=1 Last page is: 3\n",
      "Page URL: https://www.selver.ee/kastmed-olid/?limit=96&p=2 Last page is: 3\n",
      "Page URL: https://www.selver.ee/kastmed-olid/?limit=96&p=3 Last page is: 3\n",
      "Page URL: https://www.selver.ee/maiustused-kupsised-naksid/?limit=96&p=1 Last page is: 9\n",
      "Page URL: https://www.selver.ee/maiustused-kupsised-naksid/?limit=96&p=2 Last page is: 9\n",
      "Page URL: https://www.selver.ee/maiustused-kupsised-naksid/?limit=96&p=3 Last page is: 9\n",
      "Page URL: https://www.selver.ee/maiustused-kupsised-naksid/?limit=96&p=4 Last page is: 9\n",
      "Page URL: https://www.selver.ee/maiustused-kupsised-naksid/?limit=96&p=5 Last page is: 9\n",
      "Page URL: https://www.selver.ee/maiustused-kupsised-naksid/?limit=96&p=6 Last page is: 9\n",
      "Page URL: https://www.selver.ee/maiustused-kupsised-naksid/?limit=96&p=7 Last page is: 9\n",
      "Page URL: https://www.selver.ee/maiustused-kupsised-naksid/?limit=96&p=8 Last page is: 9\n",
      "Page URL: https://www.selver.ee/maiustused-kupsised-naksid/?limit=96&p=9 Last page is: 9\n",
      "Page URL: https://www.selver.ee/kulmutatud-toidukaubad/?limit=96&p=1 Last page is: 5\n",
      "Page URL: https://www.selver.ee/kulmutatud-toidukaubad/?limit=96&p=2 Last page is: 5\n",
      "Page URL: https://www.selver.ee/kulmutatud-toidukaubad/?limit=96&p=3 Last page is: 5\n",
      "Page URL: https://www.selver.ee/kulmutatud-toidukaubad/?limit=96&p=4 Last page is: 5\n",
      "Page URL: https://www.selver.ee/kulmutatud-toidukaubad/?limit=96&p=5 Last page is: 5\n",
      "Page URL: https://www.selver.ee/joogid/?limit=96&p=1 Last page is: 23\n",
      "Page URL: https://www.selver.ee/joogid/?limit=96&p=2 Last page is: 23\n",
      "Page URL: https://www.selver.ee/joogid/?limit=96&p=3 Last page is: 23\n",
      "Page URL: https://www.selver.ee/joogid/?limit=96&p=4 Last page is: 23\n",
      "Page URL: https://www.selver.ee/joogid/?limit=96&p=5 Last page is: 23\n",
      "Page URL: https://www.selver.ee/joogid/?limit=96&p=6 Last page is: 23\n",
      "Page URL: https://www.selver.ee/joogid/?limit=96&p=7 Last page is: 23\n",
      "Page URL: https://www.selver.ee/joogid/?limit=96&p=8 Last page is: 23\n",
      "Page URL: https://www.selver.ee/joogid/?limit=96&p=9 Last page is: 23\n",
      "Page URL: https://www.selver.ee/joogid/?limit=96&p=10 Last page is: 23\n",
      "Page URL: https://www.selver.ee/joogid/?limit=96&p=11 Last page is: 23\n",
      "Page URL: https://www.selver.ee/joogid/?limit=96&p=12 Last page is: 23\n",
      "Page URL: https://www.selver.ee/joogid/?limit=96&p=13 Last page is: 23\n",
      "Page URL: https://www.selver.ee/joogid/?limit=96&p=14 Last page is: 23\n",
      "Page URL: https://www.selver.ee/joogid/?limit=96&p=15 Last page is: 23\n",
      "Page URL: https://www.selver.ee/joogid/?limit=96&p=16 Last page is: 23\n",
      "Page URL: https://www.selver.ee/joogid/?limit=96&p=17 Last page is: 23\n",
      "Page URL: https://www.selver.ee/joogid/?limit=96&p=18 Last page is: 23\n",
      "Page URL: https://www.selver.ee/joogid/?limit=96&p=19 Last page is: 23\n",
      "Page URL: https://www.selver.ee/joogid/?limit=96&p=20 Last page is: 23\n",
      "Page URL: https://www.selver.ee/joogid/?limit=96&p=21 Last page is: 23\n",
      "Page URL: https://www.selver.ee/joogid/?limit=96&p=22 Last page is: 23\n",
      "Page URL: https://www.selver.ee/joogid/?limit=96&p=23 Last page is: 23\n",
      "Page URL: https://www.selver.ee/lastekaubad/?limit=96&p=1 Last page is: 4\n",
      "Page URL: https://www.selver.ee/lastekaubad/?limit=96&p=2 Last page is: 4\n",
      "Page URL: https://www.selver.ee/lastekaubad/?limit=96&p=3 Last page is: 4\n",
      "Page URL: https://www.selver.ee/lastekaubad/?limit=96&p=4 Last page is: 4\n",
      "Page URL: https://www.selver.ee/lemmiklooma-kaubad/?limit=96&p=1 Last page is: 3\n",
      "Page URL: https://www.selver.ee/lemmiklooma-kaubad/?limit=96&p=2 Last page is: 3\n",
      "Page URL: https://www.selver.ee/lemmiklooma-kaubad/?limit=96&p=3 Last page is: 3\n",
      "Page URL: https://www.selver.ee/enesehooldustarbed/?limit=96&p=1 Last page is: 12\n",
      "Page URL: https://www.selver.ee/enesehooldustarbed/?limit=96&p=2 Last page is: 12\n",
      "Page URL: https://www.selver.ee/enesehooldustarbed/?limit=96&p=3 Last page is: 12\n",
      "Page URL: https://www.selver.ee/enesehooldustarbed/?limit=96&p=4 Last page is: 12\n",
      "Page URL: https://www.selver.ee/enesehooldustarbed/?limit=96&p=5 Last page is: 12\n",
      "Page URL: https://www.selver.ee/enesehooldustarbed/?limit=96&p=6 Last page is: 12\n",
      "Page URL: https://www.selver.ee/enesehooldustarbed/?limit=96&p=7 Last page is: 12\n",
      "Page URL: https://www.selver.ee/enesehooldustarbed/?limit=96&p=8 Last page is: 12\n",
      "Page URL: https://www.selver.ee/enesehooldustarbed/?limit=96&p=9 Last page is: 12\n"
     ]
    },
    {
     "name": "stdout",
     "output_type": "stream",
     "text": [
      "Page URL: https://www.selver.ee/enesehooldustarbed/?limit=96&p=10 Last page is: 12\n",
      "Page URL: https://www.selver.ee/enesehooldustarbed/?limit=96&p=11 Last page is: 12\n",
      "Page URL: https://www.selver.ee/enesehooldustarbed/?limit=96&p=12 Last page is: 12\n",
      "Page URL: https://www.selver.ee/majapidamis-ja-kodukaubad/?limit=96&p=1 Last page is: 12\n",
      "Page URL: https://www.selver.ee/majapidamis-ja-kodukaubad/?limit=96&p=2 Last page is: 12\n",
      "Page URL: https://www.selver.ee/majapidamis-ja-kodukaubad/?limit=96&p=3 Last page is: 12\n",
      "Page URL: https://www.selver.ee/majapidamis-ja-kodukaubad/?limit=96&p=4 Last page is: 12\n",
      "Page URL: https://www.selver.ee/majapidamis-ja-kodukaubad/?limit=96&p=5 Last page is: 12\n",
      "Page URL: https://www.selver.ee/majapidamis-ja-kodukaubad/?limit=96&p=6 Last page is: 12\n",
      "Page URL: https://www.selver.ee/majapidamis-ja-kodukaubad/?limit=96&p=7 Last page is: 12\n",
      "Page URL: https://www.selver.ee/majapidamis-ja-kodukaubad/?limit=96&p=8 Last page is: 12\n",
      "Page URL: https://www.selver.ee/majapidamis-ja-kodukaubad/?limit=96&p=9 Last page is: 12\n",
      "Page URL: https://www.selver.ee/majapidamis-ja-kodukaubad/?limit=96&p=10 Last page is: 12\n",
      "Page URL: https://www.selver.ee/majapidamis-ja-kodukaubad/?limit=96&p=11 Last page is: 12\n",
      "Page URL: https://www.selver.ee/majapidamis-ja-kodukaubad/?limit=96&p=12 Last page is: 12\n",
      "Page URL: https://www.selver.ee/vabaajakaubad/?limit=96&p=1 Last page is: 6\n",
      "Page URL: https://www.selver.ee/vabaajakaubad/?limit=96&p=2 Last page is: 6\n",
      "Page URL: https://www.selver.ee/vabaajakaubad/?limit=96&p=3 Last page is: 6\n",
      "Page URL: https://www.selver.ee/vabaajakaubad/?limit=96&p=4 Last page is: 6\n",
      "Page URL: https://www.selver.ee/vabaajakaubad/?limit=96&p=5 Last page is: 6\n",
      "Page URL: https://www.selver.ee/vabaajakaubad/?limit=96&p=6 Last page is: 6\n",
      "Page URL: https://www.selver.ee/hooaja-ja-puhadekaubad/?limit=96&p=1 Last page is: 4\n",
      "Page URL: https://www.selver.ee/hooaja-ja-puhadekaubad/?limit=96&p=2 Last page is: 4\n",
      "Page URL: https://www.selver.ee/hooaja-ja-puhadekaubad/?limit=96&p=3 Last page is: 4\n",
      "Page URL: https://www.selver.ee/hooaja-ja-puhadekaubad/?limit=96&p=4 Last page is: 4\n"
     ]
    }
   ],
   "source": [
    "#start of the urls and end of the URLS\n",
    "for z in range(5,23):\n",
    "    #Find product last page\n",
    "    product_html = requests.get(get_urls[z])\n",
    "    #puhasta ilusa seebiga\n",
    "    soup = BS4(product_html.content, features='html.parser')\n",
    "    try:\n",
    "        find_product_last_page = soup.find('a',{'class':'last'}).text\n",
    "    except AttributeError:\n",
    "        find_product_last_page = 3\n",
    "    \n",
    "    for i in range(1,int(find_product_last_page)+1):\n",
    "        product_html = requests.get(get_urls[z]+str(i))\n",
    "        soup = BS4(product_html.content, features='html.parser')\n",
    "        html_list.append(soup)  \n",
    "        print(f\"Page URL: {get_urls[z]+str(i)} Last page is: {find_product_last_page}\")\n",
    "\n",
    "    for y in range(len(html_list)):  \n",
    "        find_product_group = html_list[y].find_all('li',{'class':product_class})\n",
    "        find_product_group_prices = html_list[y].find_all('span',{'class':'price'})\n",
    "        find_product_group_titles = [i.find_next('a').get('title') for i in find_product_group]\n",
    "        prices = [dedent(i.text.replace(u'\\xa0',' ')) for i in find_product_group_prices if len(i) > 1]\n",
    "        for t,f in zip(find_product_group_titles,prices):\n",
    "            dict_of_products.update({t:re.split(price_and_qty,f)[:2]})\n",
    "          \n"
   ]
  },
  {
   "cell_type": "code",
   "execution_count": 6,
   "metadata": {},
   "outputs": [],
   "source": [
    "from sqlalchemy import create_engine, insert, update, MetaData, Table, String, Column, Integer"
   ]
  },
  {
   "cell_type": "code",
   "execution_count": 33,
   "metadata": {},
   "outputs": [],
   "source": [
    "table_conn = create_engine('sqlite:///selver_data.db', echo=True)\n",
    "toode = [{'toode':x,'hind':y[0],'hind_kogus':y[1] if len(y) > 1 else 0} for x,y in dict_of_products.items()]"
   ]
  },
  {
   "cell_type": "code",
   "execution_count": 34,
   "metadata": {},
   "outputs": [
    {
     "name": "stdout",
     "output_type": "stream",
     "text": [
      "2021-03-11 12:32:59,403 INFO sqlalchemy.engine.base.Engine SELECT CAST('test plain returns' AS VARCHAR(60)) AS anon_1\n",
      "2021-03-11 12:32:59,405 INFO sqlalchemy.engine.base.Engine ()\n",
      "2021-03-11 12:32:59,406 INFO sqlalchemy.engine.base.Engine SELECT CAST('test unicode returns' AS VARCHAR(60)) AS anon_1\n",
      "2021-03-11 12:32:59,408 INFO sqlalchemy.engine.base.Engine ()\n",
      "2021-03-11 12:32:59,410 INFO sqlalchemy.engine.base.Engine PRAGMA main.table_info(\"SelverKaks\")\n",
      "2021-03-11 12:32:59,412 INFO sqlalchemy.engine.base.Engine ()\n",
      "2021-03-11 12:32:59,414 INFO sqlalchemy.engine.base.Engine PRAGMA temp.table_info(\"SelverKaks\")\n",
      "2021-03-11 12:32:59,416 INFO sqlalchemy.engine.base.Engine ()\n",
      "2021-03-11 12:32:59,418 INFO sqlalchemy.engine.base.Engine \n",
      "CREATE TABLE \"SelverKaks\" (\n",
      "\tid INTEGER NOT NULL, \n",
      "\ttoode VARCHAR, \n",
      "\thind VARCHAR, \n",
      "\thind_kogus VARCHAR, \n",
      "\tPRIMARY KEY (id)\n",
      ")\n",
      "\n",
      "\n",
      "2021-03-11 12:32:59,419 INFO sqlalchemy.engine.base.Engine ()\n",
      "2021-03-11 12:32:59,426 INFO sqlalchemy.engine.base.Engine COMMIT\n",
      "2021-03-11 12:32:59,460 INFO sqlalchemy.engine.base.Engine INSERT INTO \"SelverKaks\" (toode, hind_kogus) VALUES (?, ?)\n",
      "2021-03-11 12:32:59,462 INFO sqlalchemy.engine.base.Engine (('Banaan Chiquita, kg', '1,39 €/kg '), ('Kurk Luunja, kg', '5,99 €/kg '), ('Kirssploomtomat, 250 g', '5,16 €/kg '), ('Kirsskobartomat, 500 g', '3,98 €/kg '), ('Apelsin Navel, kg', '5,98 €/kg '), ('Frillis lõigatud, tk', '1,25 €/kg '), ('Porgand, LAHEOTSA, 500 g', '1,99 €/kg '), ('Õun Golden pakitud, 1 kg', '1,29 €/tk ')  ... displaying 10 of 10570 total bound parameter sets ...  ('Küünal Opal muna, kuldne, ARTMAN CANDLES, 1 tk', '4,29 €/tk '), ('Küünal Opal muna, mündiroheline, ARTMAN CANDLES, 1 tk', '4,29 €/tk '))\n",
      "2021-03-11 12:32:59,480 INFO sqlalchemy.engine.base.Engine COMMIT\n"
     ]
    },
    {
     "data": {
      "text/plain": [
       "<sqlalchemy.engine.result.ResultProxy at 0x23eabe35b50>"
      ]
     },
     "execution_count": 34,
     "metadata": {},
     "output_type": "execute_result"
    }
   ],
   "source": [
    "conn = table_conn.connect()\n",
    "meta = MetaData(table_conn)\n",
    "table = Table(\n",
    "               'SelverKaks', meta,\n",
    "               Column('id', Integer, primary_key=True, autoincrement=True),\n",
    "               Column('toode', String),\n",
    "               Column('hind', String),\n",
    "               Column('hind_kogus', String),\n",
    ")\n",
    "meta.create_all()\n",
    "\n",
    "conn.execute(table.insert(),toode)\n"
   ]
  },
  {
   "cell_type": "code",
   "execution_count": 32,
   "metadata": {},
   "outputs": [
    {
     "name": "stdout",
     "output_type": "stream",
     "text": [
      "Sarapuupähklitega piimašokolaadipallid Lindor, LINDT, 200 g ['25,90 €    ']\n"
     ]
    }
   ],
   "source": [
    "for x,y in dict_of_products.items():\n",
    "    if(len(y) == 1):\n",
    "        print(x,y)\n",
    "\n",
    "      "
   ]
  },
  {
   "cell_type": "code",
   "execution_count": 19,
   "metadata": {},
   "outputs": [],
   "source": [
    "conn.close()"
   ]
  },
  {
   "cell_type": "code",
   "execution_count": 91,
   "metadata": {},
   "outputs": [
    {
     "name": "stdout",
     "output_type": "stream",
     "text": [
      "['2,19 €', '2,19 tk ', '']\n",
      "['1,39 €', '1,39 €/kg', '']\n"
     ]
    }
   ],
   "source": [
    "test = re.compile(r'\\s+(\\d+.+)')\n",
    "stringOne = '2,19 €  2,19 tk '\n",
    "stringTwo = '1,39 € 1,39 €/kg'\n",
    "prices = re.split(test,stringOne)\n",
    "pricesTwo =  re.split(test,stringTwo)\n",
    "print(prices)\n",
    "print(pricesTwo)"
   ]
  },
  {
   "cell_type": "code",
   "execution_count": null,
   "metadata": {},
   "outputs": [],
   "source": []
  },
  {
   "cell_type": "code",
   "execution_count": null,
   "metadata": {},
   "outputs": [],
   "source": []
  },
  {
   "cell_type": "code",
   "execution_count": null,
   "metadata": {},
   "outputs": [],
   "source": []
  },
  {
   "cell_type": "code",
   "execution_count": null,
   "metadata": {},
   "outputs": [],
   "source": []
  },
  {
   "cell_type": "code",
   "execution_count": null,
   "metadata": {},
   "outputs": [],
   "source": []
  },
  {
   "cell_type": "code",
   "execution_count": null,
   "metadata": {},
   "outputs": [],
   "source": []
  },
  {
   "cell_type": "code",
   "execution_count": null,
   "metadata": {},
   "outputs": [],
   "source": []
  }
 ],
 "metadata": {
  "kernelspec": {
   "display_name": "Python 3",
   "language": "python",
   "name": "python3"
  },
  "language_info": {
   "codemirror_mode": {
    "name": "ipython",
    "version": 3
   },
   "file_extension": ".py",
   "mimetype": "text/x-python",
   "name": "python",
   "nbconvert_exporter": "python",
   "pygments_lexer": "ipython3",
   "version": "3.9.1"
  }
 },
 "nbformat": 4,
 "nbformat_minor": 4
}
