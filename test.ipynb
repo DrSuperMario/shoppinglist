{
 "cells": [
  {
   "cell_type": "code",
   "execution_count": 136,
   "metadata": {},
   "outputs": [],
   "source": [
    "from pprint import pprint\n",
    "import jmespath\n",
    "import requests\n",
    "from bs4 import BeautifulSoup as BS4\n",
    "from textwrap import dedent\n",
    "import re"
   ]
  },
  {
   "cell_type": "code",
   "execution_count": 2,
   "metadata": {},
   "outputs": [],
   "source": [
    "req = requests.get('https://www.selver.ee/')"
   ]
  },
  {
   "cell_type": "code",
   "execution_count": 3,
   "metadata": {},
   "outputs": [],
   "source": [
    "soup = BS4(req.content, features='html.parser')"
   ]
  },
  {
   "cell_type": "code",
   "execution_count": 57,
   "metadata": {},
   "outputs": [],
   "source": [
    "#esilehelt URL otsingu regex\n",
    "url_class = re.compile(r'(item level0 nav.\\w+.+\\d)')\n",
    "#Hinna ja toote otsingu regex\n",
    "product_class = re.compile(r'(col-lg-3 \\w+).+') \n",
    "product_price = re.compile(r'(\"price\")')"
   ]
  },
  {
   "cell_type": "code",
   "execution_count": 5,
   "metadata": {},
   "outputs": [],
   "source": [
    "#Leia kõik HTML Li tagilt mis hoiab URLi\n",
    "find_tag = soup.find_all('li',{'class':class_to_find})"
   ]
  },
  {
   "cell_type": "code",
   "execution_count": 8,
   "metadata": {},
   "outputs": [],
   "source": [
    "#leia URL'id ja lista toote nimekirja pikkus\n",
    "get_urls = [i.find_next('a').get('href')+\"/?limit=96\" for i in find_tag]"
   ]
  },
  {
   "cell_type": "code",
   "execution_count": 12,
   "metadata": {
    "collapsed": true
   },
   "outputs": [
    {
     "data": {
      "text/plain": [
       "['https://www.selver.ee/minu-tooted/?limit=96',\n",
       " 'https://www.selver.ee/uudistooted/?limit=96',\n",
       " 'https://www.selver.ee/soodushinnaga-tooted/?limit=96',\n",
       " 'https://www.selver.ee/eritooted/?limit=96',\n",
       " 'https://www.selver.ee/hulgipakkumised/?limit=96',\n",
       " 'https://www.selver.ee/puu-ja-koogiviljad/?limit=96',\n",
       " 'https://www.selver.ee/liha-ja-kalatooted/?limit=96',\n",
       " 'https://www.selver.ee/piimatooted-munad-void/?limit=96',\n",
       " 'https://www.selver.ee/juustud/?limit=96',\n",
       " 'https://www.selver.ee/leivad-saiad-kondiitritooted/?limit=96',\n",
       " 'https://www.selver.ee/valmistoidud/?limit=96',\n",
       " 'https://www.selver.ee/kuivained-hoidised/?limit=96',\n",
       " 'https://www.selver.ee/maitseained-ja-puljongid/?limit=96',\n",
       " 'https://www.selver.ee/kastmed-olid/?limit=96',\n",
       " 'https://www.selver.ee/maiustused-kupsised-naksid/?limit=96',\n",
       " 'https://www.selver.ee/kulmutatud-toidukaubad/?limit=96',\n",
       " 'https://www.selver.ee/joogid/?limit=96',\n",
       " 'https://www.selver.ee/lastekaubad/?limit=96',\n",
       " 'https://www.selver.ee/lemmiklooma-kaubad/?limit=96',\n",
       " 'https://www.selver.ee/enesehooldustarbed/?limit=96',\n",
       " 'https://www.selver.ee/majapidamis-ja-kodukaubad/?limit=96',\n",
       " 'https://www.selver.ee/vabaajakaubad/?limit=96',\n",
       " 'https://www.selver.ee/hooaja-ja-puhadekaubad/?limit=96']"
      ]
     },
     "execution_count": 12,
     "metadata": {},
     "output_type": "execute_result"
    }
   ],
   "source": [
    "get_urls"
   ]
  },
  {
   "cell_type": "code",
   "execution_count": 154,
   "metadata": {},
   "outputs": [],
   "source": [
    "#Kogu html linkide kogust\n",
    "product_html = requests.get(get_urls[8])\n",
    "#puhasta ilusa seebiga\n",
    "soup = BS4(product_html.content, features='html.parser')\n",
    "#leia toote ja hinna kategoorijad li tagist\n",
    "find_product_group = soup.find_all('li',{'class':product_class})\n",
    "#leia hinnad\n",
    "find_product_group_prices = soup.find_all('span',{'class':'price'})\n",
    "#võta linki pealkirjad ehk toote nimed\n",
    "find_product_group_titles = [i.find_next('a').get('title') for i in find_product_group]\n",
    "#leia kõik hinnad\n",
    "prices = [dedent(i.text.replace(u'\\xa0',' ')) for i in find_product_group_prices if len(i) > 1]"
   ]
  },
  {
   "cell_type": "code",
   "execution_count": 155,
   "metadata": {},
   "outputs": [],
   "source": [
    "#lisa kõik hinnad toote nimedele\n",
    "dict_of_products = dict()\n",
    "for t,f in zip(find_product_group_titles,prices):\n",
    "    dict_of_products.update({t:f})"
   ]
  },
  {
   "cell_type": "code",
   "execution_count": 141,
   "metadata": {},
   "outputs": [],
   "source": []
  },
  {
   "cell_type": "code",
   "execution_count": 142,
   "metadata": {},
   "outputs": [],
   "source": []
  },
  {
   "cell_type": "code",
   "execution_count": 152,
   "metadata": {},
   "outputs": [],
   "source": []
  },
  {
   "cell_type": "code",
   "execution_count": 156,
   "metadata": {},
   "outputs": [
    {
     "data": {
      "text/plain": [
       "{'Sulatatud juust, MEREVAIK, 200 g': '1,35 €  6,75 €/kg ',\n",
       " 'Eesti juust 25,2% viilutatud, TRADITSIOONILINE EESTI JUUST, 500 g': '4,29 €  8,58 €/kg ',\n",
       " 'Eesti Juust viilutatud, TRADITSIOONILINE EESTI JUUST, 350g': '1,99 €  5,69 €/kg ',\n",
       " 'Hiirte Juust viilutatud, ESTOVER, 350 g': '3,29 €  9,40 €/kg ',\n",
       " 'Juust Atleet Originaal, VALIO, 500 g': '2,79 €  5,58 €/kg ',\n",
       " 'Eesti juust 25,2% riivitud, TRADITSIOONILINE EESTI JUUST, 200 g': '1,29 €  6,45 €/kg ',\n",
       " 'Juust riivitud, SAAREMAA, 200 g': '1,49 €  7,45 €/kg ',\n",
       " 'Eesti Juust riivitud, ESTOVER, 400g': '2,59 €  6,48 €/kg ',\n",
       " 'Toorjuust Classic, PHILADELPHIA, 200 g': '2,19 €  10,95 €/kg ',\n",
       " 'Sulatatud juust, VALIO VIOLA, 185 g': '1,39 €  7,51 €/kg ',\n",
       " 'Viilujuust Atleet Originaal 26%, VALIO, 500 g': '4,39 €  8,78 €/kg ',\n",
       " 'Vene juust 28,5% viilutatud, ESTOVER, 500 g': '3,99 €  7,98 €/kg ',\n",
       " 'Sulatatud juust murulauguga, MEREVAIK, 200 g': '1,59 €  7,95 €/kg ',\n",
       " 'Juustupulgad, PIK-NIK, 140 g': '2,79 €  19,93 €/kg ',\n",
       " 'Riivjuust Cheddar, VALIO, 200g': '1,99 €  9,95 €/kg ',\n",
       " 'Hollandi Leibjuust viilutatud, SAAREMAA, 300 g': '2,69 €  8,97 €/kg ',\n",
       " 'Riivjuust Atleet küpsetistele, VALIO, 200 g': '1,79 €  8,95 €/kg ',\n",
       " 'Juust Forte Classico 26%, VALIO, 180 g': '3,29 €  18,28 €/kg ',\n",
       " 'Viilujuust täispiimast, ALMA, 500 g': '4,49 €  8,98 €/kg ',\n",
       " 'Viilujuust Royal Gouda Yellow, VALIO, 500 g': '4,69 €  9,38 €/kg ',\n",
       " 'Eesti Juust täispiimast, viilutatud, TRADITSIOONILINE EESTI JUUST, 450 g': '4,49 €  9,98 €/kg ',\n",
       " 'Hiirte juust 25,2% viilutatud, ESTOVER, 500 g': '2,79 €  5,58 €/kg ',\n",
       " 'Mozzarella, PIIMAMEISTER OTTO, 250 g': '1,99 €  7,96 €/kg ',\n",
       " 'Mozzarella Kirsid, PIIMAMEISTER OTTO, 125 g': '1,49 €  11,92 €/kg ',\n",
       " 'Juust Fitaki, KÄSEREI, 200 g': '1,99 €  9,95 €/kg ',\n",
       " 'Juust Edam 24% viilutatud, SAAREMAA, 500 g': '3,99 €  7,98 €/kg ',\n",
       " 'Gouda juust viil, E-PIIM, 300g': '2,59 €  8,63 €/kg ',\n",
       " 'Riivjuust Forte Classico 26%, VALIO, 80 g': '1,49 €  18,63 €/kg ',\n",
       " 'Sinihallitusjuust, ROYAL BLUE, 100 g': '1,69 €  16,90 €/kg ',\n",
       " 'Juustupulgad, PIK-NIK, 280 g': '3,49 €  12,46 €/kg ',\n",
       " 'Suitsujuust 18%, TERE, 200 g': '1,99 €  9,95 €/kg ',\n",
       " 'Juustu-küüslaugumääre, SELVERI KÖÖK, 130 g': '1,39 €  10,69 €/kg ',\n",
       " 'Riivjuust Atleet pastale, VALIO, 200 g': '1,79 €  8,95 €/kg ',\n",
       " 'Riivjuust Eesti, VALIO, 500 g': '3,99 €  7,98 €/kg ',\n",
       " 'Eesti juust Light viilutatud, E-PIIM, 500 g': '3,99 €  7,98 €/kg ',\n",
       " 'Toasty Hamburger viilud, ZOTT, 120 g': '1,09 €  9,08 €/kg ',\n",
       " 'Sulajuust, SELVER, 150 g': '0,59 €  3,93 €/kg ',\n",
       " 'Sulatatud juust röstitud kanaga, MEREVAIK, 200 g': '1,59 €  7,95 €/kg ',\n",
       " 'Sulatatud juust, HIIRTE JUUST, 200 g': '1,19 €  5,95 €/kg ',\n",
       " 'Viilujuust Royal Gouda Yellow, VALIO, 150 g': '1,59 €  10,60 €/kg ',\n",
       " 'Mozzarella kirsid, PIIMAMEISTER OTTO, 250 g': '1,99 €  7,96 €/kg ',\n",
       " 'Eesti juust 25,2% viilutatud, TRADITSIOONILINE EESTI JUUST, 200 g': '1,99 €  9,95 €/kg ',\n",
       " 'Sulatatud juust krevetiga, MEREVAIK, 200 g': '1,59 €  7,95 €/kg ',\n",
       " 'Maasdam juust 28,3% viilutatud, ESTOVER, 150 g': '1,99 €  13,27 €/kg ',\n",
       " 'Juust Saare, SAAREMAA, 500 g': '3,69 €  7,38 €/kg ',\n",
       " 'Cheddar juust viilutatud, VALIO, 150 g': '1,19 €  7,93 €/kg ',\n",
       " 'Hollandi Leibjuust 25,2% viilutatud, ESTOVER, 300 g': '2,69 €  8,97 €/kg ',\n",
       " 'Sulatatud juust maitserohelisega, HIIRTE JUUST, 200 g': '0,99 €  4,95 €/kg ',\n",
       " 'Sulatatud juust 200 g, Laktoosivaba, MEREVAIK': '1,59 €  7,95 €/kg ',\n",
       " 'Toasty Sandwich viilud, ZOTT, 120 g': '1,09 €  9,08 €/kg ',\n",
       " 'Öko Saaremaa mahejuust viilud, SAAREMAA, 150 g': '1,99 €  13,27 €/kg ',\n",
       " 'Viilujuust Royal Gouda Red, VALIO, 150 g': '1,59 €  10,60 €/kg ',\n",
       " 'Emmental juust 28,5% viilutatud, ESTOVER, 150 g': '1,99 €  13,27 €/kg ',\n",
       " 'Mozzarella pühvlipiimast, VALCOLATTE, 125 g': '2,19 €  17,52 €/kg ',\n",
       " 'Royal Gouda Red juust, VALIO, 250 g': '2,59 €  10,36 €/kg ',\n",
       " 'Lapimaa juust, LAPIMAA JUUST, 220 g': '2,99 €  13,59 €/kg ',\n",
       " 'Suitsutatud Kadaka riivjuust 26%, SAAREMAA, 200 g': '1,49 €  7,45 €/kg ',\n",
       " 'Sinihallitusjuust Dorblu, KÄSEREI, 100 g': '1,79 €  17,90 €/kg ',\n",
       " 'Royal Gouda Black juust, VALIO, 200 g': '2,69 €  13,45 €/kg ',\n",
       " 'Juust Forte Speciale, VALIO, 180 g': '3,79 €  21,06 €/kg ',\n",
       " 'Sini-valgehallitusjuust Bavaria Blu, BERGADER, 150 g': '2,49 €  16,60 €/kg ',\n",
       " 'Vene juust 28,5% viilutatud, ESTOVER, 150 g': '1,49 €  9,93 €/kg ',\n",
       " 'Köögi toorjuust, FARMI, 400 g': '2,99 €  7,48 €/kg ',\n",
       " 'Mozzarella Zottarella light, ZOTT, 125 g': '1,59 €  12,72 €/kg ',\n",
       " 'Toorjuust, FARMI, 150 g': '1,69 €  11,27 €/kg ',\n",
       " 'Sulatatud juust kukeseentega, MEREVAIK, 200 g': '1,59 €  7,95 €/kg ',\n",
       " 'Kõva juust Synnove Itaallane, SYNNOVE, 150 g': '2,59 €  17,27 €/kg ',\n",
       " 'Saare Leet juust viil, SAAREMAA, 500 g': '3,99 €  7,98 €/kg ',\n",
       " 'Juust Special viilutatud, E-PIIM, 150 g': '1,39 €  9,27 €/kg ',\n",
       " 'Juustulaastud Forte Classico 26%, VALIO, 100 g': '1,79 €  17,90 €/kg ',\n",
       " 'Juust Atleet Originaal viil., VALIO, 150 g': '1,49 €  9,93 €/kg ',\n",
       " 'Võileivamääre Karulaugupestoga, FARMI, 150 g': '0,99 €  6,60 €/kg ',\n",
       " 'Sinihallitusjuust Bavaria Würzige, BERGADER, 175 g': '2,69 €  15,37 €/kg ',\n",
       " 'Sinihallitusjuust, PALADIN, 100 g': '1,49 €  14,90 €/kg ',\n",
       " 'Mozzarella Zottarella, ZOTT, 250 g': '2,99 €  11,96 €/kg ',\n",
       " 'Mozzarella basiilikuga, ZOTT, 125 g': '1,59 €  12,72 €/kg ',\n",
       " 'Juust Atleet Cheddar, VALIO, 250 g': '2,49 €  9,96 €/kg ',\n",
       " 'Hollandi Leibjuust 25,2% viilutatud, ESTOVER, 150 g': '1,59 €  10,60 €/kg ',\n",
       " 'Saaremaa Eesti juust viil, SAAREMAA, 500 g': '3,99 €  7,98 €/kg ',\n",
       " 'Mozzarella, riivitud, GALBANI, 150 g': '1,59 €  10,60 €/kg ',\n",
       " 'Juustupulgad lastele, PIK-NIK, 140 g': '1,99 €  14,21 €/kg ',\n",
       " 'Juust Saare Light viil, SAAREMAA, 150 g': '1,39 €  9,27 €/kg ',\n",
       " 'Juust Fitaki, KÄSEREI, 500 g': '3,79 €  7,58 €/kg ',\n",
       " 'Emmentali tüüpi juust Finden Ost, SYNNOVE, 350 g': '2,89 €  8,26 €/kg ',\n",
       " 'Kadaka sulatatud juust, SAAREMAA, 185 g': '1,59 €  8,59 €/kg ',\n",
       " 'Eesti juust riivitud, E-PIIM, 250 g': '1,89 €  7,56 €/kg ',\n",
       " 'Pizzariiv, SYNNOVE, 200 g': '1,29 €  6,45 €/kg ',\n",
       " 'Brie valgehallitusjuust, PRESIDENT, 125 g': '1,99 €  15,92 €/kg ',\n",
       " 'Võileivamääre Hapukurgi- Tilli, FARMI, 150 g': '0,99 €  6,60 €/kg ',\n",
       " 'Sulatatud juust suitsujuustuga, HIIRTE JUUST, 200 g': '1,19 €  5,95 €/kg ',\n",
       " 'Mozzarella, VALCOLATTE, 100 g': '1,19 €  11,90 €/kg ',\n",
       " 'Eesti juust light 15,7% viilutatud, TRADITSIOONILINE EESTI JUUST, 200 g': '1,99 €  9,95 €/kg ',\n",
       " 'Kreemjuust kitsepiimast laktoosivaba, ROTKÄPPCHEN, 150 g': '2,39 €  15,93 €/kg ',\n",
       " 'Pehme valge juust, ATHENA, 500 g': '2,99 €  5,98 €/kg ',\n",
       " 'Baieri sini-valgehallitusjuust, COBURGER, 150 g': '1,99 €  13,27 €/kg ',\n",
       " 'Määrdekreem maitsestamata, CREME BONJOUR, 200 g': '1,99 €  9,95 €/kg '}"
      ]
     },
     "execution_count": 156,
     "metadata": {},
     "output_type": "execute_result"
    }
   ],
   "source": [
    "dict_of_products"
   ]
  },
  {
   "cell_type": "code",
   "execution_count": null,
   "metadata": {},
   "outputs": [],
   "source": []
  }
 ],
 "metadata": {
  "kernelspec": {
   "display_name": "Python 3",
   "language": "python",
   "name": "python3"
  },
  "language_info": {
   "codemirror_mode": {
    "name": "ipython",
    "version": 3
   },
   "file_extension": ".py",
   "mimetype": "text/x-python",
   "name": "python",
   "nbconvert_exporter": "python",
   "pygments_lexer": "ipython3",
   "version": "3.9.1"
  }
 },
 "nbformat": 4,
 "nbformat_minor": 4
}
