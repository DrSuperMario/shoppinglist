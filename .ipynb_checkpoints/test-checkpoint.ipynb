{
 "cells": [
  {
   "cell_type": "code",
   "execution_count": 1,
   "metadata": {},
   "outputs": [],
   "source": [
    "from pprint import pprint\n",
    "import jmespath\n",
    "import requests\n",
    "from bs4 import BeautifulSoup as BS4"
   ]
  },
  {
   "cell_type": "code",
   "execution_count": 2,
   "metadata": {},
   "outputs": [],
   "source": [
    "req = requests.get('https://www.selver.ee/')"
   ]
  },
  {
   "cell_type": "code",
   "execution_count": 6,
   "metadata": {},
   "outputs": [],
   "source": [
    "soup = BS4(req.content, features='html.parser')"
   ]
  },
  {
   "cell_type": "code",
   "execution_count": 107,
   "metadata": {},
   "outputs": [],
   "source": [
    "import re\n",
    "class_to_find = re.compile(r'(item level0 nav.\\w+.+\\d)')\n",
    "link_name = re.compile(r'(\\w+)')"
   ]
  },
  {
   "cell_type": "code",
   "execution_count": 47,
   "metadata": {},
   "outputs": [],
   "source": [
    "find_tag = soup.find_all('li',{'class':class_to_find})"
   ]
  },
  {
   "cell_type": "code",
   "execution_count": 110,
   "metadata": {},
   "outputs": [],
   "source": [
    "get_urls = [i.find_next('a').get('href')+f\"/{link_name}?limit=96\" for i in find_tag]"
   ]
  },
  {
   "cell_type": "code",
   "execution_count": 111,
   "metadata": {
    "collapsed": true
   },
   "outputs": [
    {
     "data": {
      "text/plain": [
       "[\"https://www.selver.ee/minu-tooted/re.compile('(\\\\\\\\w+)')?limit=96\",\n",
       " \"https://www.selver.ee/uudistooted/re.compile('(\\\\\\\\w+)')?limit=96\",\n",
       " \"https://www.selver.ee/soodushinnaga-tooted/re.compile('(\\\\\\\\w+)')?limit=96\",\n",
       " \"https://www.selver.ee/eritooted/re.compile('(\\\\\\\\w+)')?limit=96\",\n",
       " \"https://www.selver.ee/hulgipakkumised/re.compile('(\\\\\\\\w+)')?limit=96\",\n",
       " \"https://www.selver.ee/puu-ja-koogiviljad/re.compile('(\\\\\\\\w+)')?limit=96\",\n",
       " \"https://www.selver.ee/liha-ja-kalatooted/re.compile('(\\\\\\\\w+)')?limit=96\",\n",
       " \"https://www.selver.ee/piimatooted-munad-void/re.compile('(\\\\\\\\w+)')?limit=96\",\n",
       " \"https://www.selver.ee/juustud/re.compile('(\\\\\\\\w+)')?limit=96\",\n",
       " \"https://www.selver.ee/leivad-saiad-kondiitritooted/re.compile('(\\\\\\\\w+)')?limit=96\",\n",
       " \"https://www.selver.ee/valmistoidud/re.compile('(\\\\\\\\w+)')?limit=96\",\n",
       " \"https://www.selver.ee/kuivained-hoidised/re.compile('(\\\\\\\\w+)')?limit=96\",\n",
       " \"https://www.selver.ee/maitseained-ja-puljongid/re.compile('(\\\\\\\\w+)')?limit=96\",\n",
       " \"https://www.selver.ee/kastmed-olid/re.compile('(\\\\\\\\w+)')?limit=96\",\n",
       " \"https://www.selver.ee/maiustused-kupsised-naksid/re.compile('(\\\\\\\\w+)')?limit=96\",\n",
       " \"https://www.selver.ee/kulmutatud-toidukaubad/re.compile('(\\\\\\\\w+)')?limit=96\",\n",
       " \"https://www.selver.ee/joogid/re.compile('(\\\\\\\\w+)')?limit=96\",\n",
       " \"https://www.selver.ee/lastekaubad/re.compile('(\\\\\\\\w+)')?limit=96\",\n",
       " \"https://www.selver.ee/lemmiklooma-kaubad/re.compile('(\\\\\\\\w+)')?limit=96\",\n",
       " \"https://www.selver.ee/enesehooldustarbed/re.compile('(\\\\\\\\w+)')?limit=96\",\n",
       " \"https://www.selver.ee/majapidamis-ja-kodukaubad/re.compile('(\\\\\\\\w+)')?limit=96\",\n",
       " \"https://www.selver.ee/vabaajakaubad/re.compile('(\\\\\\\\w+)')?limit=96\",\n",
       " \"https://www.selver.ee/hooaja-ja-puhadekaubad/re.compile('(\\\\\\\\w+)')?limit=96\"]"
      ]
     },
     "execution_count": 111,
     "metadata": {},
     "output_type": "execute_result"
    }
   ],
   "source": [
    "get_urls"
   ]
  },
  {
   "cell_type": "code",
   "execution_count": 58,
   "metadata": {},
   "outputs": [],
   "source": [
    "s"
   ]
  },
  {
   "cell_type": "code",
   "execution_count": null,
   "metadata": {},
   "outputs": [],
   "source": []
  }
 ],
 "metadata": {
  "kernelspec": {
   "display_name": "Python 3",
   "language": "python",
   "name": "python3"
  },
  "language_info": {
   "codemirror_mode": {
    "name": "ipython",
    "version": 3
   },
   "file_extension": ".py",
   "mimetype": "text/x-python",
   "name": "python",
   "nbconvert_exporter": "python",
   "pygments_lexer": "ipython3",
   "version": "3.9.1"
  }
 },
 "nbformat": 4,
 "nbformat_minor": 4
}
